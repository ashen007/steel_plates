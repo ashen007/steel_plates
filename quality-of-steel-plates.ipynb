{
 "metadata": {
  "kernelspec": {
   "display_name": "Python 3",
   "language": "python",
   "name": "python3"
  },
  "language_info": {
   "name": "python",
   "version": "3.10.13",
   "mimetype": "text/x-python",
   "codemirror_mode": {
    "name": "ipython",
    "version": 3
   },
   "pygments_lexer": "ipython3",
   "nbconvert_exporter": "python",
   "file_extension": ".py"
  },
  "kaggle": {
   "accelerator": "nvidiaTeslaT4",
   "dataSources": [
    {
     "sourceId": 68699,
     "databundleVersionId": 7659021,
     "sourceType": "competition"
    }
   ],
   "dockerImageVersionId": 30674,
   "isInternetEnabled": true,
   "language": "python",
   "sourceType": "notebook",
   "isGpuEnabled": true
  }
 },
 "nbformat_minor": 5,
 "nbformat": 4,
 "cells": [
  {
   "cell_type": "code",
   "source": [
    "import warnings\n",
    "\n",
    "warnings.filterwarnings(action='ignore')\n",
    "\n",
    "import numpy as np\n",
    "import pandas as pd\n",
    "import scipy.stats as ss\n",
    "import seaborn as sns\n",
    "import matplotlib.pyplot as plt\n",
    "import optuna\n",
    "import torch\n",
    "\n",
    "from tqdm.notebook import tqdm\n",
    "from iterstrat.ml_stratifiers import MultilabelStratifiedKFold\n",
    "from feature_engine.outliers import Winsorizer\n",
    "from sklearn.preprocessing import MinMaxScaler\n",
    "from sklearn.feature_selection import mutual_info_classif, f_classif\n",
    "from sklearn.model_selection import cross_val_score, train_test_split, StratifiedKFold\n",
    "from sklearn.metrics import roc_auc_score\n",
    "from sklearn.pipeline import make_pipeline\n",
    "from sklearn.decomposition import LatentDirichletAllocation, TruncatedSVD\n",
    "from sklearn.kernel_approximation import AdditiveChi2Sampler\n",
    "from sklearn.manifold import LocallyLinearEmbedding\n",
    "from sklearn.feature_selection import RFECV, SelectKBest\n",
    "\n",
    "from sklearn.linear_model import LogisticRegression\n",
    "from sklearn.tree import DecisionTreeClassifier\n",
    "from sklearn.ensemble import RandomForestClassifier\n",
    "from sklearn.ensemble import BaggingClassifier\n",
    "from sklearn.ensemble import StackingClassifier\n",
    "from sklearn.ensemble import AdaBoostClassifier\n",
    "from sklearn.ensemble import GradientBoostingClassifier\n",
    "from sklearn.multioutput import MultiOutputClassifier\n",
    "from sklearn.cluster import KMeans, FeatureAgglomeration\n",
    "\n",
    "from xgboost import XGBClassifier\n",
    "from lightgbm import LGBMClassifier\n",
    "from catboost import CatBoostClassifier\n",
    "from torch import nn\n",
    "from torch.utils.data import Dataset, DataLoader"
   ],
   "metadata": {
    "execution": {
     "iopub.status.busy": "2024-03-28T13:29:19.576961Z",
     "iopub.execute_input": "2024-03-28T13:29:19.577336Z",
     "iopub.status.idle": "2024-03-28T13:29:19.588419Z",
     "shell.execute_reply.started": "2024-03-28T13:29:19.577308Z",
     "shell.execute_reply": "2024-03-28T13:29:19.587385Z"
    },
    "trusted": true,
    "ExecuteTime": {
     "end_time": "2024-03-31T07:35:29.374912400Z",
     "start_time": "2024-03-31T07:35:29.372378100Z"
    }
   },
   "execution_count": 78,
   "outputs": [],
   "id": "818c9dca0d55fb94"
  },
  {
   "cell_type": "code",
   "source": [
    "train = pd.read_csv('./data/train.csv').drop('id', axis=1)\n",
    "test = pd.read_csv('./data/test.csv').drop('id', axis=1)\n",
    "sub = pd.read_csv('./data/sample_submission.csv', index_col='id')"
   ],
   "metadata": {
    "collapsed": false,
    "execution": {
     "iopub.status.busy": "2024-03-28T12:14:38.256617Z",
     "iopub.execute_input": "2024-03-28T12:14:38.257027Z",
     "iopub.status.idle": "2024-03-28T12:14:38.536993Z",
     "shell.execute_reply.started": "2024-03-28T12:14:38.256987Z",
     "shell.execute_reply": "2024-03-28T12:14:38.536055Z"
    },
    "trusted": true,
    "ExecuteTime": {
     "end_time": "2024-03-31T03:53:09.964738900Z",
     "start_time": "2024-03-31T03:53:09.516372300Z"
    }
   },
   "execution_count": 2,
   "outputs": [],
   "id": "1c4f2114c7f14632"
  },
  {
   "cell_type": "code",
   "source": [
    "train"
   ],
   "metadata": {
    "collapsed": false,
    "execution": {
     "iopub.status.busy": "2024-03-28T12:14:42.059628Z",
     "iopub.execute_input": "2024-03-28T12:14:42.060531Z",
     "iopub.status.idle": "2024-03-28T12:14:42.097942Z",
     "shell.execute_reply.started": "2024-03-28T12:14:42.060495Z",
     "shell.execute_reply": "2024-03-28T12:14:42.096610Z"
    },
    "trusted": true,
    "ExecuteTime": {
     "end_time": "2024-03-31T03:53:10.918999600Z",
     "start_time": "2024-03-31T03:53:10.890821Z"
    }
   },
   "execution_count": 3,
   "outputs": [
    {
     "data": {
      "text/plain": "       X_Minimum  X_Maximum  Y_Minimum  Y_Maximum  Pixels_Areas  X_Perimeter  \\\n0            584        590     909972     909977            16            8   \n1            808        816     728350     728372           433           20   \n2             39        192    2212076    2212144         11388          705   \n3            781        789    3353146    3353173           210           16   \n4           1540       1560     618457     618502           521           72   \n...          ...        ...        ...        ...           ...          ...   \n19214        749        757     143210     143219            17            4   \n19215        723        735    2488529    2488541           231           17   \n19216          6         31    1578055    1578129           780          114   \n19217          9         18    1713172    1713184           126           13   \n19218       1505       1525    1733458    1733471           182           24   \n\n       Y_Perimeter  Sum_of_Luminosity  Minimum_of_Luminosity  \\\n0                5               2274                    113   \n1               54              44478                     70   \n2              420            1311391                     29   \n3               29               3202                    114   \n4               67              48231                     82   \n...            ...                ...                    ...   \n19214            4               2193                    122   \n19215           26              27135                    104   \n19216           98              71112                     41   \n19217           26              14808                     88   \n19218           33              22785                     98   \n\n       Maximum_of_Luminosity  ...  Orientation_Index  Luminosity_Index  \\\n0                        140  ...            -0.5000           -0.0104   \n1                        111  ...             0.7419           -0.2997   \n2                        141  ...            -0.0105           -0.0944   \n3                        134  ...             0.6667           -0.0402   \n4                        111  ...             0.9158           -0.2455   \n...                      ...  ...                ...               ...   \n19214                    140  ...            -0.1429            0.0044   \n19215                    133  ...             0.7222           -0.0989   \n19216                     94  ...             0.7719           -0.4283   \n19217                    132  ...             0.9610           -0.1162   \n19218                    143  ...             0.5263           -0.1120   \n\n       SigmoidOfAreas  Pastry  Z_Scratch  K_Scatch  Stains  Dirtiness  Bumps  \\\n0              0.1417       0          0         0       1          0      0   \n1              0.9491       0          0         0       0          0      0   \n2              1.0000       0          0         1       0          0      0   \n3              0.4025       0          0         1       0          0      0   \n4              0.9998       0          0         0       0          0      0   \n...               ...     ...        ...       ...     ...        ...    ...   \n19214          0.2901       0          0         0       1          0      0   \n19215          0.5378       0          0         0       0          0      0   \n19216          0.9997       1          0         0       0          0      0   \n19217          0.3509       0          0         0       0          0      0   \n19218          0.6619       0          0         0       0          0      1   \n\n       Other_Faults  \n0                 0  \n1                 1  \n2                 0  \n3                 0  \n4                 1  \n...             ...  \n19214             0  \n19215             1  \n19216             0  \n19217             1  \n19218             0  \n\n[19219 rows x 34 columns]",
      "text/html": "<div>\n<style scoped>\n    .dataframe tbody tr th:only-of-type {\n        vertical-align: middle;\n    }\n\n    .dataframe tbody tr th {\n        vertical-align: top;\n    }\n\n    .dataframe thead th {\n        text-align: right;\n    }\n</style>\n<table border=\"1\" class=\"dataframe\">\n  <thead>\n    <tr style=\"text-align: right;\">\n      <th></th>\n      <th>X_Minimum</th>\n      <th>X_Maximum</th>\n      <th>Y_Minimum</th>\n      <th>Y_Maximum</th>\n      <th>Pixels_Areas</th>\n      <th>X_Perimeter</th>\n      <th>Y_Perimeter</th>\n      <th>Sum_of_Luminosity</th>\n      <th>Minimum_of_Luminosity</th>\n      <th>Maximum_of_Luminosity</th>\n      <th>...</th>\n      <th>Orientation_Index</th>\n      <th>Luminosity_Index</th>\n      <th>SigmoidOfAreas</th>\n      <th>Pastry</th>\n      <th>Z_Scratch</th>\n      <th>K_Scatch</th>\n      <th>Stains</th>\n      <th>Dirtiness</th>\n      <th>Bumps</th>\n      <th>Other_Faults</th>\n    </tr>\n  </thead>\n  <tbody>\n    <tr>\n      <th>0</th>\n      <td>584</td>\n      <td>590</td>\n      <td>909972</td>\n      <td>909977</td>\n      <td>16</td>\n      <td>8</td>\n      <td>5</td>\n      <td>2274</td>\n      <td>113</td>\n      <td>140</td>\n      <td>...</td>\n      <td>-0.5000</td>\n      <td>-0.0104</td>\n      <td>0.1417</td>\n      <td>0</td>\n      <td>0</td>\n      <td>0</td>\n      <td>1</td>\n      <td>0</td>\n      <td>0</td>\n      <td>0</td>\n    </tr>\n    <tr>\n      <th>1</th>\n      <td>808</td>\n      <td>816</td>\n      <td>728350</td>\n      <td>728372</td>\n      <td>433</td>\n      <td>20</td>\n      <td>54</td>\n      <td>44478</td>\n      <td>70</td>\n      <td>111</td>\n      <td>...</td>\n      <td>0.7419</td>\n      <td>-0.2997</td>\n      <td>0.9491</td>\n      <td>0</td>\n      <td>0</td>\n      <td>0</td>\n      <td>0</td>\n      <td>0</td>\n      <td>0</td>\n      <td>1</td>\n    </tr>\n    <tr>\n      <th>2</th>\n      <td>39</td>\n      <td>192</td>\n      <td>2212076</td>\n      <td>2212144</td>\n      <td>11388</td>\n      <td>705</td>\n      <td>420</td>\n      <td>1311391</td>\n      <td>29</td>\n      <td>141</td>\n      <td>...</td>\n      <td>-0.0105</td>\n      <td>-0.0944</td>\n      <td>1.0000</td>\n      <td>0</td>\n      <td>0</td>\n      <td>1</td>\n      <td>0</td>\n      <td>0</td>\n      <td>0</td>\n      <td>0</td>\n    </tr>\n    <tr>\n      <th>3</th>\n      <td>781</td>\n      <td>789</td>\n      <td>3353146</td>\n      <td>3353173</td>\n      <td>210</td>\n      <td>16</td>\n      <td>29</td>\n      <td>3202</td>\n      <td>114</td>\n      <td>134</td>\n      <td>...</td>\n      <td>0.6667</td>\n      <td>-0.0402</td>\n      <td>0.4025</td>\n      <td>0</td>\n      <td>0</td>\n      <td>1</td>\n      <td>0</td>\n      <td>0</td>\n      <td>0</td>\n      <td>0</td>\n    </tr>\n    <tr>\n      <th>4</th>\n      <td>1540</td>\n      <td>1560</td>\n      <td>618457</td>\n      <td>618502</td>\n      <td>521</td>\n      <td>72</td>\n      <td>67</td>\n      <td>48231</td>\n      <td>82</td>\n      <td>111</td>\n      <td>...</td>\n      <td>0.9158</td>\n      <td>-0.2455</td>\n      <td>0.9998</td>\n      <td>0</td>\n      <td>0</td>\n      <td>0</td>\n      <td>0</td>\n      <td>0</td>\n      <td>0</td>\n      <td>1</td>\n    </tr>\n    <tr>\n      <th>...</th>\n      <td>...</td>\n      <td>...</td>\n      <td>...</td>\n      <td>...</td>\n      <td>...</td>\n      <td>...</td>\n      <td>...</td>\n      <td>...</td>\n      <td>...</td>\n      <td>...</td>\n      <td>...</td>\n      <td>...</td>\n      <td>...</td>\n      <td>...</td>\n      <td>...</td>\n      <td>...</td>\n      <td>...</td>\n      <td>...</td>\n      <td>...</td>\n      <td>...</td>\n      <td>...</td>\n    </tr>\n    <tr>\n      <th>19214</th>\n      <td>749</td>\n      <td>757</td>\n      <td>143210</td>\n      <td>143219</td>\n      <td>17</td>\n      <td>4</td>\n      <td>4</td>\n      <td>2193</td>\n      <td>122</td>\n      <td>140</td>\n      <td>...</td>\n      <td>-0.1429</td>\n      <td>0.0044</td>\n      <td>0.2901</td>\n      <td>0</td>\n      <td>0</td>\n      <td>0</td>\n      <td>1</td>\n      <td>0</td>\n      <td>0</td>\n      <td>0</td>\n    </tr>\n    <tr>\n      <th>19215</th>\n      <td>723</td>\n      <td>735</td>\n      <td>2488529</td>\n      <td>2488541</td>\n      <td>231</td>\n      <td>17</td>\n      <td>26</td>\n      <td>27135</td>\n      <td>104</td>\n      <td>133</td>\n      <td>...</td>\n      <td>0.7222</td>\n      <td>-0.0989</td>\n      <td>0.5378</td>\n      <td>0</td>\n      <td>0</td>\n      <td>0</td>\n      <td>0</td>\n      <td>0</td>\n      <td>0</td>\n      <td>1</td>\n    </tr>\n    <tr>\n      <th>19216</th>\n      <td>6</td>\n      <td>31</td>\n      <td>1578055</td>\n      <td>1578129</td>\n      <td>780</td>\n      <td>114</td>\n      <td>98</td>\n      <td>71112</td>\n      <td>41</td>\n      <td>94</td>\n      <td>...</td>\n      <td>0.7719</td>\n      <td>-0.4283</td>\n      <td>0.9997</td>\n      <td>1</td>\n      <td>0</td>\n      <td>0</td>\n      <td>0</td>\n      <td>0</td>\n      <td>0</td>\n      <td>0</td>\n    </tr>\n    <tr>\n      <th>19217</th>\n      <td>9</td>\n      <td>18</td>\n      <td>1713172</td>\n      <td>1713184</td>\n      <td>126</td>\n      <td>13</td>\n      <td>26</td>\n      <td>14808</td>\n      <td>88</td>\n      <td>132</td>\n      <td>...</td>\n      <td>0.9610</td>\n      <td>-0.1162</td>\n      <td>0.3509</td>\n      <td>0</td>\n      <td>0</td>\n      <td>0</td>\n      <td>0</td>\n      <td>0</td>\n      <td>0</td>\n      <td>1</td>\n    </tr>\n    <tr>\n      <th>19218</th>\n      <td>1505</td>\n      <td>1525</td>\n      <td>1733458</td>\n      <td>1733471</td>\n      <td>182</td>\n      <td>24</td>\n      <td>33</td>\n      <td>22785</td>\n      <td>98</td>\n      <td>143</td>\n      <td>...</td>\n      <td>0.5263</td>\n      <td>-0.1120</td>\n      <td>0.6619</td>\n      <td>0</td>\n      <td>0</td>\n      <td>0</td>\n      <td>0</td>\n      <td>0</td>\n      <td>1</td>\n      <td>0</td>\n    </tr>\n  </tbody>\n</table>\n<p>19219 rows × 34 columns</p>\n</div>"
     },
     "execution_count": 3,
     "metadata": {},
     "output_type": "execute_result"
    }
   ],
   "id": "eb5b6af24a3dd493"
  },
  {
   "cell_type": "code",
   "source": [
    "train.shape, test.shape, sub.shape"
   ],
   "metadata": {
    "collapsed": false,
    "execution": {
     "iopub.status.busy": "2024-03-28T12:14:44.149946Z",
     "iopub.execute_input": "2024-03-28T12:14:44.150405Z",
     "iopub.status.idle": "2024-03-28T12:14:44.157052Z",
     "shell.execute_reply.started": "2024-03-28T12:14:44.150367Z",
     "shell.execute_reply": "2024-03-28T12:14:44.156070Z"
    },
    "trusted": true,
    "ExecuteTime": {
     "end_time": "2024-03-31T03:53:11.632928300Z",
     "start_time": "2024-03-31T03:53:11.601814300Z"
    }
   },
   "execution_count": 4,
   "outputs": [
    {
     "data": {
      "text/plain": "((19219, 34), (12814, 27), (12814, 7))"
     },
     "execution_count": 4,
     "metadata": {},
     "output_type": "execute_result"
    }
   ],
   "id": "ee885990865ff7c7"
  },
  {
   "cell_type": "code",
   "source": [
    "ys = list(train.columns[-7:])"
   ],
   "metadata": {
    "collapsed": false,
    "execution": {
     "iopub.status.busy": "2024-03-28T12:14:45.166730Z",
     "iopub.execute_input": "2024-03-28T12:14:45.167119Z",
     "iopub.status.idle": "2024-03-28T12:14:45.171906Z",
     "shell.execute_reply.started": "2024-03-28T12:14:45.167089Z",
     "shell.execute_reply": "2024-03-28T12:14:45.171024Z"
    },
    "trusted": true,
    "ExecuteTime": {
     "end_time": "2024-03-31T03:53:12.599080100Z",
     "start_time": "2024-03-31T03:53:12.589305800Z"
    }
   },
   "execution_count": 5,
   "outputs": [],
   "id": "969b54e5dfd30c7a"
  },
  {
   "cell_type": "code",
   "source": [
    "Y = train.loc[:, ys]\n",
    "X = train.drop(ys, axis=1)"
   ],
   "metadata": {
    "collapsed": false,
    "execution": {
     "iopub.status.busy": "2024-03-28T12:14:46.141634Z",
     "iopub.execute_input": "2024-03-28T12:14:46.142024Z",
     "iopub.status.idle": "2024-03-28T12:14:46.149800Z",
     "shell.execute_reply.started": "2024-03-28T12:14:46.141982Z",
     "shell.execute_reply": "2024-03-28T12:14:46.148897Z"
    },
    "trusted": true,
    "ExecuteTime": {
     "end_time": "2024-03-31T03:53:13.225494400Z",
     "start_time": "2024-03-31T03:53:13.192206500Z"
    }
   },
   "execution_count": 6,
   "outputs": [],
   "id": "1eb826efe30cfe7b"
  },
  {
   "cell_type": "code",
   "source": [
    "X.isna().sum()"
   ],
   "metadata": {
    "collapsed": false,
    "execution": {
     "iopub.status.busy": "2024-03-28T12:14:46.819991Z",
     "iopub.execute_input": "2024-03-28T12:14:46.820356Z",
     "iopub.status.idle": "2024-03-28T12:14:46.830723Z",
     "shell.execute_reply.started": "2024-03-28T12:14:46.820323Z",
     "shell.execute_reply": "2024-03-28T12:14:46.829594Z"
    },
    "trusted": true,
    "ExecuteTime": {
     "end_time": "2024-03-31T03:53:13.957970Z",
     "start_time": "2024-03-31T03:53:13.936606200Z"
    }
   },
   "execution_count": 7,
   "outputs": [
    {
     "data": {
      "text/plain": "X_Minimum                0\nX_Maximum                0\nY_Minimum                0\nY_Maximum                0\nPixels_Areas             0\nX_Perimeter              0\nY_Perimeter              0\nSum_of_Luminosity        0\nMinimum_of_Luminosity    0\nMaximum_of_Luminosity    0\nLength_of_Conveyer       0\nTypeOfSteel_A300         0\nTypeOfSteel_A400         0\nSteel_Plate_Thickness    0\nEdges_Index              0\nEmpty_Index              0\nSquare_Index             0\nOutside_X_Index          0\nEdges_X_Index            0\nEdges_Y_Index            0\nOutside_Global_Index     0\nLogOfAreas               0\nLog_X_Index              0\nLog_Y_Index              0\nOrientation_Index        0\nLuminosity_Index         0\nSigmoidOfAreas           0\ndtype: int64"
     },
     "execution_count": 7,
     "metadata": {},
     "output_type": "execute_result"
    }
   ],
   "id": "ee5f2aabd4884dab"
  },
  {
   "cell_type": "code",
   "source": [
    "mut_info = pd.DataFrame(np.zeros((27)), index=train.columns[:-7])\n",
    "\n",
    "for i in range(7):\n",
    "    mut_info[i] = pd.Series(mutual_info_classif(train.iloc[:, :-7], Y.iloc[:, i]), index=train.columns[:-7])\n",
    "\n",
    "mut_info"
   ],
   "metadata": {
    "collapsed": false,
    "execution": {
     "iopub.status.busy": "2024-03-28T12:14:47.877693Z",
     "iopub.execute_input": "2024-03-28T12:14:47.878076Z",
     "iopub.status.idle": "2024-03-28T12:15:03.547034Z",
     "shell.execute_reply.started": "2024-03-28T12:14:47.878049Z",
     "shell.execute_reply": "2024-03-28T12:15:03.546023Z"
    },
    "trusted": true,
    "ExecuteTime": {
     "end_time": "2024-03-31T03:53:35.581341700Z",
     "start_time": "2024-03-31T03:53:14.738777600Z"
    }
   },
   "execution_count": 8,
   "outputs": [
    {
     "data": {
      "text/plain": "                              0         1         2         3         4  \\\nX_Minimum              0.024609  0.032431  0.294529  0.024691  0.015434   \nX_Maximum              0.025651  0.033128  0.295398  0.021819  0.017155   \nY_Minimum              0.007032  0.002614  0.153447  0.016417  0.005038   \nY_Maximum              0.005815  0.003690  0.151515  0.017539  0.003892   \nPixels_Areas           0.018653  0.011581  0.305108  0.079066  0.007637   \nX_Perimeter            0.018102  0.012991  0.302123  0.057887  0.006469   \nY_Perimeter            0.016235  0.010455  0.279891  0.072562  0.006951   \nSum_of_Luminosity      0.017709  0.010506  0.296957  0.072521  0.007544   \nMinimum_of_Luminosity  0.016569  0.009587  0.276943  0.032067  0.007279   \nMaximum_of_Luminosity  0.003903  0.008221  0.076167  0.019442  0.003914   \nLength_of_Conveyer     0.026614  0.055803  0.196195  0.023850  0.012430   \nTypeOfSteel_A300       0.000000  0.021362  0.099332  0.012385  0.004137   \nTypeOfSteel_A400       0.003529  0.020483  0.095475  0.012279  0.007701   \nSteel_Plate_Thickness  0.014664  0.071325  0.178689  0.081162  0.010683   \nEdges_Index            0.021350  0.018656  0.282169  0.032973  0.013015   \nEmpty_Index            0.019957  0.010453  0.208822  0.035792  0.004422   \nSquare_Index           0.030262  0.006736  0.231844  0.027516  0.012988   \nOutside_X_Index        0.031268  0.020634  0.317062  0.044079  0.009434   \nEdges_X_Index          0.028764  0.006777  0.254573  0.039972  0.011403   \nEdges_Y_Index          0.037011  0.014757  0.284004  0.017002  0.007342   \nOutside_Global_Index   0.039097  0.005655  0.060731  0.017710  0.007897   \nLogOfAreas             0.018632  0.011580  0.303371  0.078975  0.007662   \nLog_X_Index            0.028773  0.013867  0.310604  0.043889  0.006768   \nLog_Y_Index            0.015332  0.005297  0.247832  0.069792  0.007737   \nOrientation_Index      0.048347  0.005905  0.255042  0.041354  0.014685   \nLuminosity_Index       0.013724  0.006161  0.211960  0.045205  0.005778   \nSigmoidOfAreas         0.019395  0.010553  0.267221  0.074736  0.005623   \n\n                              5         6  \nX_Minimum              0.058714  0.036302  \nX_Maximum              0.055132  0.039143  \nY_Minimum              0.035647  0.019159  \nY_Maximum              0.030590  0.028567  \nPixels_Areas           0.067169  0.037610  \nX_Perimeter            0.059092  0.046050  \nY_Perimeter            0.072108  0.034823  \nSum_of_Luminosity      0.065611  0.037906  \nMinimum_of_Luminosity  0.055251  0.035306  \nMaximum_of_Luminosity  0.016707  0.006517  \nLength_of_Conveyer     0.051772  0.035926  \nTypeOfSteel_A300       0.030037  0.006304  \nTypeOfSteel_A400       0.033967  0.008665  \nSteel_Plate_Thickness  0.045405  0.023683  \nEdges_Index            0.063622  0.031133  \nEmpty_Index            0.043850  0.024170  \nSquare_Index           0.057785  0.028722  \nOutside_X_Index        0.059915  0.036069  \nEdges_X_Index          0.050306  0.034955  \nEdges_Y_Index          0.045437  0.034275  \nOutside_Global_Index   0.007325  0.007736  \nLogOfAreas             0.068336  0.035871  \nLog_X_Index            0.055978  0.038518  \nLog_Y_Index            0.065099  0.029358  \nOrientation_Index      0.056514  0.034609  \nLuminosity_Index       0.042309  0.032124  \nSigmoidOfAreas         0.062045  0.033321  ",
      "text/html": "<div>\n<style scoped>\n    .dataframe tbody tr th:only-of-type {\n        vertical-align: middle;\n    }\n\n    .dataframe tbody tr th {\n        vertical-align: top;\n    }\n\n    .dataframe thead th {\n        text-align: right;\n    }\n</style>\n<table border=\"1\" class=\"dataframe\">\n  <thead>\n    <tr style=\"text-align: right;\">\n      <th></th>\n      <th>0</th>\n      <th>1</th>\n      <th>2</th>\n      <th>3</th>\n      <th>4</th>\n      <th>5</th>\n      <th>6</th>\n    </tr>\n  </thead>\n  <tbody>\n    <tr>\n      <th>X_Minimum</th>\n      <td>0.024609</td>\n      <td>0.032431</td>\n      <td>0.294529</td>\n      <td>0.024691</td>\n      <td>0.015434</td>\n      <td>0.058714</td>\n      <td>0.036302</td>\n    </tr>\n    <tr>\n      <th>X_Maximum</th>\n      <td>0.025651</td>\n      <td>0.033128</td>\n      <td>0.295398</td>\n      <td>0.021819</td>\n      <td>0.017155</td>\n      <td>0.055132</td>\n      <td>0.039143</td>\n    </tr>\n    <tr>\n      <th>Y_Minimum</th>\n      <td>0.007032</td>\n      <td>0.002614</td>\n      <td>0.153447</td>\n      <td>0.016417</td>\n      <td>0.005038</td>\n      <td>0.035647</td>\n      <td>0.019159</td>\n    </tr>\n    <tr>\n      <th>Y_Maximum</th>\n      <td>0.005815</td>\n      <td>0.003690</td>\n      <td>0.151515</td>\n      <td>0.017539</td>\n      <td>0.003892</td>\n      <td>0.030590</td>\n      <td>0.028567</td>\n    </tr>\n    <tr>\n      <th>Pixels_Areas</th>\n      <td>0.018653</td>\n      <td>0.011581</td>\n      <td>0.305108</td>\n      <td>0.079066</td>\n      <td>0.007637</td>\n      <td>0.067169</td>\n      <td>0.037610</td>\n    </tr>\n    <tr>\n      <th>X_Perimeter</th>\n      <td>0.018102</td>\n      <td>0.012991</td>\n      <td>0.302123</td>\n      <td>0.057887</td>\n      <td>0.006469</td>\n      <td>0.059092</td>\n      <td>0.046050</td>\n    </tr>\n    <tr>\n      <th>Y_Perimeter</th>\n      <td>0.016235</td>\n      <td>0.010455</td>\n      <td>0.279891</td>\n      <td>0.072562</td>\n      <td>0.006951</td>\n      <td>0.072108</td>\n      <td>0.034823</td>\n    </tr>\n    <tr>\n      <th>Sum_of_Luminosity</th>\n      <td>0.017709</td>\n      <td>0.010506</td>\n      <td>0.296957</td>\n      <td>0.072521</td>\n      <td>0.007544</td>\n      <td>0.065611</td>\n      <td>0.037906</td>\n    </tr>\n    <tr>\n      <th>Minimum_of_Luminosity</th>\n      <td>0.016569</td>\n      <td>0.009587</td>\n      <td>0.276943</td>\n      <td>0.032067</td>\n      <td>0.007279</td>\n      <td>0.055251</td>\n      <td>0.035306</td>\n    </tr>\n    <tr>\n      <th>Maximum_of_Luminosity</th>\n      <td>0.003903</td>\n      <td>0.008221</td>\n      <td>0.076167</td>\n      <td>0.019442</td>\n      <td>0.003914</td>\n      <td>0.016707</td>\n      <td>0.006517</td>\n    </tr>\n    <tr>\n      <th>Length_of_Conveyer</th>\n      <td>0.026614</td>\n      <td>0.055803</td>\n      <td>0.196195</td>\n      <td>0.023850</td>\n      <td>0.012430</td>\n      <td>0.051772</td>\n      <td>0.035926</td>\n    </tr>\n    <tr>\n      <th>TypeOfSteel_A300</th>\n      <td>0.000000</td>\n      <td>0.021362</td>\n      <td>0.099332</td>\n      <td>0.012385</td>\n      <td>0.004137</td>\n      <td>0.030037</td>\n      <td>0.006304</td>\n    </tr>\n    <tr>\n      <th>TypeOfSteel_A400</th>\n      <td>0.003529</td>\n      <td>0.020483</td>\n      <td>0.095475</td>\n      <td>0.012279</td>\n      <td>0.007701</td>\n      <td>0.033967</td>\n      <td>0.008665</td>\n    </tr>\n    <tr>\n      <th>Steel_Plate_Thickness</th>\n      <td>0.014664</td>\n      <td>0.071325</td>\n      <td>0.178689</td>\n      <td>0.081162</td>\n      <td>0.010683</td>\n      <td>0.045405</td>\n      <td>0.023683</td>\n    </tr>\n    <tr>\n      <th>Edges_Index</th>\n      <td>0.021350</td>\n      <td>0.018656</td>\n      <td>0.282169</td>\n      <td>0.032973</td>\n      <td>0.013015</td>\n      <td>0.063622</td>\n      <td>0.031133</td>\n    </tr>\n    <tr>\n      <th>Empty_Index</th>\n      <td>0.019957</td>\n      <td>0.010453</td>\n      <td>0.208822</td>\n      <td>0.035792</td>\n      <td>0.004422</td>\n      <td>0.043850</td>\n      <td>0.024170</td>\n    </tr>\n    <tr>\n      <th>Square_Index</th>\n      <td>0.030262</td>\n      <td>0.006736</td>\n      <td>0.231844</td>\n      <td>0.027516</td>\n      <td>0.012988</td>\n      <td>0.057785</td>\n      <td>0.028722</td>\n    </tr>\n    <tr>\n      <th>Outside_X_Index</th>\n      <td>0.031268</td>\n      <td>0.020634</td>\n      <td>0.317062</td>\n      <td>0.044079</td>\n      <td>0.009434</td>\n      <td>0.059915</td>\n      <td>0.036069</td>\n    </tr>\n    <tr>\n      <th>Edges_X_Index</th>\n      <td>0.028764</td>\n      <td>0.006777</td>\n      <td>0.254573</td>\n      <td>0.039972</td>\n      <td>0.011403</td>\n      <td>0.050306</td>\n      <td>0.034955</td>\n    </tr>\n    <tr>\n      <th>Edges_Y_Index</th>\n      <td>0.037011</td>\n      <td>0.014757</td>\n      <td>0.284004</td>\n      <td>0.017002</td>\n      <td>0.007342</td>\n      <td>0.045437</td>\n      <td>0.034275</td>\n    </tr>\n    <tr>\n      <th>Outside_Global_Index</th>\n      <td>0.039097</td>\n      <td>0.005655</td>\n      <td>0.060731</td>\n      <td>0.017710</td>\n      <td>0.007897</td>\n      <td>0.007325</td>\n      <td>0.007736</td>\n    </tr>\n    <tr>\n      <th>LogOfAreas</th>\n      <td>0.018632</td>\n      <td>0.011580</td>\n      <td>0.303371</td>\n      <td>0.078975</td>\n      <td>0.007662</td>\n      <td>0.068336</td>\n      <td>0.035871</td>\n    </tr>\n    <tr>\n      <th>Log_X_Index</th>\n      <td>0.028773</td>\n      <td>0.013867</td>\n      <td>0.310604</td>\n      <td>0.043889</td>\n      <td>0.006768</td>\n      <td>0.055978</td>\n      <td>0.038518</td>\n    </tr>\n    <tr>\n      <th>Log_Y_Index</th>\n      <td>0.015332</td>\n      <td>0.005297</td>\n      <td>0.247832</td>\n      <td>0.069792</td>\n      <td>0.007737</td>\n      <td>0.065099</td>\n      <td>0.029358</td>\n    </tr>\n    <tr>\n      <th>Orientation_Index</th>\n      <td>0.048347</td>\n      <td>0.005905</td>\n      <td>0.255042</td>\n      <td>0.041354</td>\n      <td>0.014685</td>\n      <td>0.056514</td>\n      <td>0.034609</td>\n    </tr>\n    <tr>\n      <th>Luminosity_Index</th>\n      <td>0.013724</td>\n      <td>0.006161</td>\n      <td>0.211960</td>\n      <td>0.045205</td>\n      <td>0.005778</td>\n      <td>0.042309</td>\n      <td>0.032124</td>\n    </tr>\n    <tr>\n      <th>SigmoidOfAreas</th>\n      <td>0.019395</td>\n      <td>0.010553</td>\n      <td>0.267221</td>\n      <td>0.074736</td>\n      <td>0.005623</td>\n      <td>0.062045</td>\n      <td>0.033321</td>\n    </tr>\n  </tbody>\n</table>\n</div>"
     },
     "execution_count": 8,
     "metadata": {},
     "output_type": "execute_result"
    }
   ],
   "id": "22c3ff27fd663162"
  },
  {
   "cell_type": "code",
   "execution_count": 9,
   "outputs": [
    {
     "data": {
      "text/plain": "                       X_Minimum  X_Maximum  Y_Minimum  Y_Maximum  \\\nX_Minimum               1.000000   0.989767   0.016071   0.014247   \nX_Maximum               0.989767   1.000000   0.018909   0.016513   \nY_Minimum               0.016071   0.018909   1.000000   0.969552   \nY_Maximum               0.014247   0.016513   0.969552   1.000000   \nPixels_Areas           -0.464759  -0.391937  -0.007370  -0.007019   \nX_Perimeter            -0.451961  -0.378434  -0.012712  -0.012377   \nY_Perimeter            -0.426514  -0.356528  -0.024876  -0.024798   \nSum_of_Luminosity      -0.430073  -0.363092  -0.008189  -0.007809   \nMinimum_of_Luminosity   0.337748   0.275571  -0.017321  -0.018739   \nMaximum_of_Luminosity  -0.132955  -0.129669  -0.029160  -0.028312   \nLength_of_Conveyer      0.308740   0.293466   0.016586   0.015735   \nTypeOfSteel_A300        0.220151   0.189802   0.044781   0.044867   \nTypeOfSteel_A400       -0.218122  -0.188033  -0.044328  -0.044422   \nSteel_Plate_Thickness   0.188764   0.164789  -0.054389  -0.058683   \nEdges_Index             0.167358   0.129800   0.035762   0.034222   \nEmpty_Index            -0.175624  -0.146167  -0.033792  -0.032824   \nSquare_Index            0.045635   0.035124   0.033952   0.034552   \nOutside_X_Index        -0.522112  -0.432545   0.019685   0.017271   \nEdges_X_Index           0.112746   0.095799   0.052710   0.051546   \nEdges_Y_Index           0.460421   0.391743  -0.002647  -0.001382   \nOutside_Global_Index    0.222109   0.190474  -0.025374  -0.023285   \nLogOfAreas             -0.505024  -0.428875  -0.001754  -0.000995   \nLog_X_Index            -0.530728  -0.448348   0.015116   0.015624   \nLog_Y_Index            -0.375324  -0.316770  -0.023702  -0.022941   \nOrientation_Index       0.276871   0.237157  -0.044202  -0.042490   \nLuminosity_Index       -0.068844  -0.079235  -0.023000  -0.022869   \nSigmoidOfAreas         -0.376973  -0.319598  -0.031511  -0.030345   \n\n                       Pixels_Areas  X_Perimeter  Y_Perimeter  \\\nX_Minimum                 -0.464759    -0.451961    -0.426514   \nX_Maximum                 -0.391937    -0.378434    -0.356528   \nY_Minimum                 -0.007370    -0.012712    -0.024876   \nY_Maximum                 -0.007019    -0.012377    -0.024798   \nPixels_Areas               1.000000     0.835079     0.834543   \nX_Perimeter                0.835079     1.000000     0.912579   \nY_Perimeter                0.834543     0.912579     1.000000   \nSum_of_Luminosity          0.797843     0.802072     0.809171   \nMinimum_of_Luminosity     -0.622867    -0.603891    -0.602826   \nMaximum_of_Luminosity      0.130499     0.158036     0.160831   \nLength_of_Conveyer        -0.208256    -0.206060    -0.188716   \nTypeOfSteel_A300          -0.304635    -0.300883    -0.304057   \nTypeOfSteel_A400           0.300308     0.296467     0.299557   \nSteel_Plate_Thickness     -0.232467    -0.225757    -0.189628   \nEdges_Index               -0.337258    -0.326388    -0.320950   \nEmpty_Index                0.269263     0.322417     0.338079   \nSquare_Index               0.024658     0.050052     0.003372   \nOutside_X_Index            0.764810     0.752470     0.700036   \nEdges_X_Index             -0.303335    -0.378672    -0.469092   \nEdges_Y_Index             -0.650704    -0.664781    -0.612157   \nOutside_Global_Index      -0.205579    -0.174615    -0.081225   \nLogOfAreas                 0.774580     0.771546     0.790863   \nLog_X_Index                0.749731     0.750418     0.705657   \nLog_Y_Index                0.640033     0.667441     0.761117   \nOrientation_Index         -0.269013    -0.234969    -0.113968   \nLuminosity_Index          -0.015081     0.005212    -0.005650   \nSigmoidOfAreas             0.542672     0.561256     0.608167   \n\n                       Sum_of_Luminosity  Minimum_of_Luminosity  \\\nX_Minimum                      -0.430073               0.337748   \nX_Maximum                      -0.363092               0.275571   \nY_Minimum                      -0.008189              -0.017321   \nY_Maximum                      -0.007809              -0.018739   \nPixels_Areas                    0.797843              -0.622867   \nX_Perimeter                     0.802072              -0.603891   \nY_Perimeter                     0.809171              -0.602826   \nSum_of_Luminosity               1.000000              -0.580857   \nMinimum_of_Luminosity          -0.580857               1.000000   \nMaximum_of_Luminosity           0.128569               0.397265   \nLength_of_Conveyer             -0.194282               0.018612   \nTypeOfSteel_A300               -0.282051               0.103835   \nTypeOfSteel_A400                0.278000              -0.100916   \nSteel_Plate_Thickness          -0.215082               0.133881   \nEdges_Index                    -0.309055               0.397904   \nEmpty_Index                     0.271448              -0.096133   \nSquare_Index                    0.031948               0.062940   \nOutside_X_Index                 0.703912              -0.638549   \nEdges_X_Index                  -0.315125               0.234592   \nEdges_Y_Index                  -0.608297               0.467841   \nOutside_Global_Index           -0.177048               0.112480   \nLogOfAreas                      0.726483              -0.691406   \nLog_X_Index                     0.698035              -0.637711   \nLog_Y_Index                     0.615651              -0.585194   \nOrientation_Index              -0.234625               0.179385   \nLuminosity_Index               -0.013845               0.619174   \nSigmoidOfAreas                  0.520282              -0.504692   \n\n                       Maximum_of_Luminosity  ...  Outside_X_Index  \\\nX_Minimum                          -0.132955  ...        -0.522112   \nX_Maximum                          -0.129669  ...        -0.432545   \nY_Minimum                          -0.029160  ...         0.019685   \nY_Maximum                          -0.028312  ...         0.017271   \nPixels_Areas                        0.130499  ...         0.764810   \nX_Perimeter                         0.158036  ...         0.752470   \nY_Perimeter                         0.160831  ...         0.700036   \nSum_of_Luminosity                   0.128569  ...         0.703912   \nMinimum_of_Luminosity               0.397265  ...        -0.638549   \nMaximum_of_Luminosity               1.000000  ...         0.074610   \nLength_of_Conveyer                 -0.181411  ...        -0.272466   \nTypeOfSteel_A300                   -0.221093  ...        -0.333026   \nTypeOfSteel_A400                    0.220088  ...         0.329806   \nSteel_Plate_Thickness              -0.113917  ...        -0.270063   \nEdges_Index                         0.153931  ...        -0.362471   \nEmpty_Index                         0.108878  ...         0.293223   \nSquare_Index                        0.061480  ...        -0.098957   \nOutside_X_Index                     0.074610  ...         1.000000   \nEdges_X_Index                      -0.014785  ...        -0.156802   \nEdges_Y_Index                      -0.153276  ...        -0.760021   \nOutside_Global_Index               -0.120083  ...        -0.382777   \nLogOfAreas                          0.033191  ...         0.811960   \nLog_X_Index                         0.079426  ...         0.898341   \nLog_Y_Index                         0.004650  ...         0.598918   \nOrientation_Index                  -0.113531  ...        -0.467688   \nLuminosity_Index                    0.853856  ...        -0.050740   \nSigmoidOfAreas                      0.018501  ...         0.609049   \n\n                       Edges_X_Index  Edges_Y_Index  Outside_Global_Index  \\\nX_Minimum                   0.112746       0.460421              0.222109   \nX_Maximum                   0.095799       0.391743              0.190474   \nY_Minimum                   0.052710      -0.002647             -0.025374   \nY_Maximum                   0.051546      -0.001382             -0.023285   \nPixels_Areas               -0.303335      -0.650704             -0.205579   \nX_Perimeter                -0.378672      -0.664781             -0.174615   \nY_Perimeter                -0.469092      -0.612157             -0.081225   \nSum_of_Luminosity          -0.315125      -0.608297             -0.177048   \nMinimum_of_Luminosity       0.234592       0.467841              0.112480   \nMaximum_of_Luminosity      -0.014785      -0.153276             -0.120083   \nLength_of_Conveyer          0.110726       0.296749              0.182721   \nTypeOfSteel_A300            0.198026       0.286424              0.062285   \nTypeOfSteel_A400           -0.196268      -0.283340             -0.061767   \nSteel_Plate_Thickness      -0.036774       0.255632              0.200674   \nEdges_Index                 0.224152       0.313508              0.048415   \nEmpty_Index                -0.323494      -0.465523             -0.205664   \nSquare_Index                0.299610       0.083152             -0.099019   \nOutside_X_Index            -0.156802      -0.760021             -0.382777   \nEdges_X_Index               1.000000       0.136147             -0.336322   \nEdges_Y_Index               0.136147       1.000000              0.529914   \nOutside_Global_Index       -0.336322       0.529914              1.000000   \nLogOfAreas                 -0.462665      -0.713607             -0.168963   \nLog_X_Index                -0.207693      -0.851813             -0.436422   \nLog_Y_Index                -0.651384      -0.464314              0.127741   \nOrientation_Index          -0.412696       0.607271              0.863987   \nLuminosity_Index            0.072659      -0.053778             -0.115506   \nSigmoidOfAreas             -0.538678      -0.594737             -0.105986   \n\n                       LogOfAreas  Log_X_Index  Log_Y_Index  \\\nX_Minimum               -0.505024    -0.530728    -0.375324   \nX_Maximum               -0.428875    -0.448348    -0.316770   \nY_Minimum               -0.001754     0.015116    -0.023702   \nY_Maximum               -0.000995     0.015624    -0.022941   \nPixels_Areas             0.774580     0.749731     0.640033   \nX_Perimeter              0.771546     0.750418     0.667441   \nY_Perimeter              0.790863     0.705657     0.761117   \nSum_of_Luminosity        0.726483     0.698035     0.615651   \nMinimum_of_Luminosity   -0.691406    -0.637711    -0.585194   \nMaximum_of_Luminosity    0.033191     0.079426     0.004650   \nLength_of_Conveyer      -0.254979    -0.287967    -0.195315   \nTypeOfSteel_A300        -0.362923    -0.321869    -0.334782   \nTypeOfSteel_A400         0.359392     0.318857     0.331959   \nSteel_Plate_Thickness   -0.202286    -0.267696    -0.094453   \nEdges_Index             -0.420367    -0.383782    -0.373661   \nEmpty_Index              0.379479     0.421585     0.360459   \nSquare_Index            -0.234846    -0.111598    -0.322514   \nOutside_X_Index          0.811960     0.898341     0.598918   \nEdges_X_Index           -0.462665    -0.207693    -0.651384   \nEdges_Y_Index           -0.713607    -0.851813    -0.464314   \nOutside_Global_Index    -0.168963    -0.436422     0.127741   \nLogOfAreas               1.000000     0.888239     0.879228   \nLog_X_Index              0.888239     1.000000     0.667899   \nLog_Y_Index              0.879228     0.667899     1.000000   \nOrientation_Index       -0.214866    -0.520981     0.144861   \nLuminosity_Index        -0.133567    -0.058458    -0.157437   \nSigmoidOfAreas           0.872453     0.748741     0.852450   \n\n                       Orientation_Index  Luminosity_Index  SigmoidOfAreas  \nX_Minimum                       0.276871         -0.068844       -0.376973  \nX_Maximum                       0.237157         -0.079235       -0.319598  \nY_Minimum                      -0.044202         -0.023000       -0.031511  \nY_Maximum                      -0.042490         -0.022869       -0.030345  \nPixels_Areas                   -0.269013         -0.015081        0.542672  \nX_Perimeter                    -0.234969          0.005212        0.561256  \nY_Perimeter                    -0.113968         -0.005650        0.608167  \nSum_of_Luminosity              -0.234625         -0.013845        0.520282  \nMinimum_of_Luminosity           0.179385          0.619174       -0.504692  \nMaximum_of_Luminosity          -0.113531          0.853856        0.018501  \nLength_of_Conveyer              0.180770         -0.210456       -0.260468  \nTypeOfSteel_A300                0.065726         -0.215409       -0.346852  \nTypeOfSteel_A400               -0.065357          0.214970        0.344353  \nSteel_Plate_Thickness           0.240923         -0.102066       -0.125354  \nEdges_Index                     0.080225          0.213547       -0.350934  \nEmpty_Index                    -0.179199          0.085117        0.480116  \nSquare_Index                   -0.209706          0.082997       -0.361511  \nOutside_X_Index                -0.467688         -0.050740        0.609049  \nEdges_X_Index                  -0.412696          0.072659       -0.538678  \nEdges_Y_Index                   0.607271         -0.053778       -0.594737  \nOutside_Global_Index            0.863987         -0.115506       -0.105986  \nLogOfAreas                     -0.214866         -0.133567        0.872453  \nLog_X_Index                    -0.520981         -0.058458        0.748741  \nLog_Y_Index                     0.144861         -0.157437        0.852450  \nOrientation_Index               1.000000         -0.104336       -0.089470  \nLuminosity_Index               -0.104336          1.000000       -0.119099  \nSigmoidOfAreas                 -0.089470         -0.119099        1.000000  \n\n[27 rows x 27 columns]",
      "text/html": "<div>\n<style scoped>\n    .dataframe tbody tr th:only-of-type {\n        vertical-align: middle;\n    }\n\n    .dataframe tbody tr th {\n        vertical-align: top;\n    }\n\n    .dataframe thead th {\n        text-align: right;\n    }\n</style>\n<table border=\"1\" class=\"dataframe\">\n  <thead>\n    <tr style=\"text-align: right;\">\n      <th></th>\n      <th>X_Minimum</th>\n      <th>X_Maximum</th>\n      <th>Y_Minimum</th>\n      <th>Y_Maximum</th>\n      <th>Pixels_Areas</th>\n      <th>X_Perimeter</th>\n      <th>Y_Perimeter</th>\n      <th>Sum_of_Luminosity</th>\n      <th>Minimum_of_Luminosity</th>\n      <th>Maximum_of_Luminosity</th>\n      <th>...</th>\n      <th>Outside_X_Index</th>\n      <th>Edges_X_Index</th>\n      <th>Edges_Y_Index</th>\n      <th>Outside_Global_Index</th>\n      <th>LogOfAreas</th>\n      <th>Log_X_Index</th>\n      <th>Log_Y_Index</th>\n      <th>Orientation_Index</th>\n      <th>Luminosity_Index</th>\n      <th>SigmoidOfAreas</th>\n    </tr>\n  </thead>\n  <tbody>\n    <tr>\n      <th>X_Minimum</th>\n      <td>1.000000</td>\n      <td>0.989767</td>\n      <td>0.016071</td>\n      <td>0.014247</td>\n      <td>-0.464759</td>\n      <td>-0.451961</td>\n      <td>-0.426514</td>\n      <td>-0.430073</td>\n      <td>0.337748</td>\n      <td>-0.132955</td>\n      <td>...</td>\n      <td>-0.522112</td>\n      <td>0.112746</td>\n      <td>0.460421</td>\n      <td>0.222109</td>\n      <td>-0.505024</td>\n      <td>-0.530728</td>\n      <td>-0.375324</td>\n      <td>0.276871</td>\n      <td>-0.068844</td>\n      <td>-0.376973</td>\n    </tr>\n    <tr>\n      <th>X_Maximum</th>\n      <td>0.989767</td>\n      <td>1.000000</td>\n      <td>0.018909</td>\n      <td>0.016513</td>\n      <td>-0.391937</td>\n      <td>-0.378434</td>\n      <td>-0.356528</td>\n      <td>-0.363092</td>\n      <td>0.275571</td>\n      <td>-0.129669</td>\n      <td>...</td>\n      <td>-0.432545</td>\n      <td>0.095799</td>\n      <td>0.391743</td>\n      <td>0.190474</td>\n      <td>-0.428875</td>\n      <td>-0.448348</td>\n      <td>-0.316770</td>\n      <td>0.237157</td>\n      <td>-0.079235</td>\n      <td>-0.319598</td>\n    </tr>\n    <tr>\n      <th>Y_Minimum</th>\n      <td>0.016071</td>\n      <td>0.018909</td>\n      <td>1.000000</td>\n      <td>0.969552</td>\n      <td>-0.007370</td>\n      <td>-0.012712</td>\n      <td>-0.024876</td>\n      <td>-0.008189</td>\n      <td>-0.017321</td>\n      <td>-0.029160</td>\n      <td>...</td>\n      <td>0.019685</td>\n      <td>0.052710</td>\n      <td>-0.002647</td>\n      <td>-0.025374</td>\n      <td>-0.001754</td>\n      <td>0.015116</td>\n      <td>-0.023702</td>\n      <td>-0.044202</td>\n      <td>-0.023000</td>\n      <td>-0.031511</td>\n    </tr>\n    <tr>\n      <th>Y_Maximum</th>\n      <td>0.014247</td>\n      <td>0.016513</td>\n      <td>0.969552</td>\n      <td>1.000000</td>\n      <td>-0.007019</td>\n      <td>-0.012377</td>\n      <td>-0.024798</td>\n      <td>-0.007809</td>\n      <td>-0.018739</td>\n      <td>-0.028312</td>\n      <td>...</td>\n      <td>0.017271</td>\n      <td>0.051546</td>\n      <td>-0.001382</td>\n      <td>-0.023285</td>\n      <td>-0.000995</td>\n      <td>0.015624</td>\n      <td>-0.022941</td>\n      <td>-0.042490</td>\n      <td>-0.022869</td>\n      <td>-0.030345</td>\n    </tr>\n    <tr>\n      <th>Pixels_Areas</th>\n      <td>-0.464759</td>\n      <td>-0.391937</td>\n      <td>-0.007370</td>\n      <td>-0.007019</td>\n      <td>1.000000</td>\n      <td>0.835079</td>\n      <td>0.834543</td>\n      <td>0.797843</td>\n      <td>-0.622867</td>\n      <td>0.130499</td>\n      <td>...</td>\n      <td>0.764810</td>\n      <td>-0.303335</td>\n      <td>-0.650704</td>\n      <td>-0.205579</td>\n      <td>0.774580</td>\n      <td>0.749731</td>\n      <td>0.640033</td>\n      <td>-0.269013</td>\n      <td>-0.015081</td>\n      <td>0.542672</td>\n    </tr>\n    <tr>\n      <th>X_Perimeter</th>\n      <td>-0.451961</td>\n      <td>-0.378434</td>\n      <td>-0.012712</td>\n      <td>-0.012377</td>\n      <td>0.835079</td>\n      <td>1.000000</td>\n      <td>0.912579</td>\n      <td>0.802072</td>\n      <td>-0.603891</td>\n      <td>0.158036</td>\n      <td>...</td>\n      <td>0.752470</td>\n      <td>-0.378672</td>\n      <td>-0.664781</td>\n      <td>-0.174615</td>\n      <td>0.771546</td>\n      <td>0.750418</td>\n      <td>0.667441</td>\n      <td>-0.234969</td>\n      <td>0.005212</td>\n      <td>0.561256</td>\n    </tr>\n    <tr>\n      <th>Y_Perimeter</th>\n      <td>-0.426514</td>\n      <td>-0.356528</td>\n      <td>-0.024876</td>\n      <td>-0.024798</td>\n      <td>0.834543</td>\n      <td>0.912579</td>\n      <td>1.000000</td>\n      <td>0.809171</td>\n      <td>-0.602826</td>\n      <td>0.160831</td>\n      <td>...</td>\n      <td>0.700036</td>\n      <td>-0.469092</td>\n      <td>-0.612157</td>\n      <td>-0.081225</td>\n      <td>0.790863</td>\n      <td>0.705657</td>\n      <td>0.761117</td>\n      <td>-0.113968</td>\n      <td>-0.005650</td>\n      <td>0.608167</td>\n    </tr>\n    <tr>\n      <th>Sum_of_Luminosity</th>\n      <td>-0.430073</td>\n      <td>-0.363092</td>\n      <td>-0.008189</td>\n      <td>-0.007809</td>\n      <td>0.797843</td>\n      <td>0.802072</td>\n      <td>0.809171</td>\n      <td>1.000000</td>\n      <td>-0.580857</td>\n      <td>0.128569</td>\n      <td>...</td>\n      <td>0.703912</td>\n      <td>-0.315125</td>\n      <td>-0.608297</td>\n      <td>-0.177048</td>\n      <td>0.726483</td>\n      <td>0.698035</td>\n      <td>0.615651</td>\n      <td>-0.234625</td>\n      <td>-0.013845</td>\n      <td>0.520282</td>\n    </tr>\n    <tr>\n      <th>Minimum_of_Luminosity</th>\n      <td>0.337748</td>\n      <td>0.275571</td>\n      <td>-0.017321</td>\n      <td>-0.018739</td>\n      <td>-0.622867</td>\n      <td>-0.603891</td>\n      <td>-0.602826</td>\n      <td>-0.580857</td>\n      <td>1.000000</td>\n      <td>0.397265</td>\n      <td>...</td>\n      <td>-0.638549</td>\n      <td>0.234592</td>\n      <td>0.467841</td>\n      <td>0.112480</td>\n      <td>-0.691406</td>\n      <td>-0.637711</td>\n      <td>-0.585194</td>\n      <td>0.179385</td>\n      <td>0.619174</td>\n      <td>-0.504692</td>\n    </tr>\n    <tr>\n      <th>Maximum_of_Luminosity</th>\n      <td>-0.132955</td>\n      <td>-0.129669</td>\n      <td>-0.029160</td>\n      <td>-0.028312</td>\n      <td>0.130499</td>\n      <td>0.158036</td>\n      <td>0.160831</td>\n      <td>0.128569</td>\n      <td>0.397265</td>\n      <td>1.000000</td>\n      <td>...</td>\n      <td>0.074610</td>\n      <td>-0.014785</td>\n      <td>-0.153276</td>\n      <td>-0.120083</td>\n      <td>0.033191</td>\n      <td>0.079426</td>\n      <td>0.004650</td>\n      <td>-0.113531</td>\n      <td>0.853856</td>\n      <td>0.018501</td>\n    </tr>\n    <tr>\n      <th>Length_of_Conveyer</th>\n      <td>0.308740</td>\n      <td>0.293466</td>\n      <td>0.016586</td>\n      <td>0.015735</td>\n      <td>-0.208256</td>\n      <td>-0.206060</td>\n      <td>-0.188716</td>\n      <td>-0.194282</td>\n      <td>0.018612</td>\n      <td>-0.181411</td>\n      <td>...</td>\n      <td>-0.272466</td>\n      <td>0.110726</td>\n      <td>0.296749</td>\n      <td>0.182721</td>\n      <td>-0.254979</td>\n      <td>-0.287967</td>\n      <td>-0.195315</td>\n      <td>0.180770</td>\n      <td>-0.210456</td>\n      <td>-0.260468</td>\n    </tr>\n    <tr>\n      <th>TypeOfSteel_A300</th>\n      <td>0.220151</td>\n      <td>0.189802</td>\n      <td>0.044781</td>\n      <td>0.044867</td>\n      <td>-0.304635</td>\n      <td>-0.300883</td>\n      <td>-0.304057</td>\n      <td>-0.282051</td>\n      <td>0.103835</td>\n      <td>-0.221093</td>\n      <td>...</td>\n      <td>-0.333026</td>\n      <td>0.198026</td>\n      <td>0.286424</td>\n      <td>0.062285</td>\n      <td>-0.362923</td>\n      <td>-0.321869</td>\n      <td>-0.334782</td>\n      <td>0.065726</td>\n      <td>-0.215409</td>\n      <td>-0.346852</td>\n    </tr>\n    <tr>\n      <th>TypeOfSteel_A400</th>\n      <td>-0.218122</td>\n      <td>-0.188033</td>\n      <td>-0.044328</td>\n      <td>-0.044422</td>\n      <td>0.300308</td>\n      <td>0.296467</td>\n      <td>0.299557</td>\n      <td>0.278000</td>\n      <td>-0.100916</td>\n      <td>0.220088</td>\n      <td>...</td>\n      <td>0.329806</td>\n      <td>-0.196268</td>\n      <td>-0.283340</td>\n      <td>-0.061767</td>\n      <td>0.359392</td>\n      <td>0.318857</td>\n      <td>0.331959</td>\n      <td>-0.065357</td>\n      <td>0.214970</td>\n      <td>0.344353</td>\n    </tr>\n    <tr>\n      <th>Steel_Plate_Thickness</th>\n      <td>0.188764</td>\n      <td>0.164789</td>\n      <td>-0.054389</td>\n      <td>-0.058683</td>\n      <td>-0.232467</td>\n      <td>-0.225757</td>\n      <td>-0.189628</td>\n      <td>-0.215082</td>\n      <td>0.133881</td>\n      <td>-0.113917</td>\n      <td>...</td>\n      <td>-0.270063</td>\n      <td>-0.036774</td>\n      <td>0.255632</td>\n      <td>0.200674</td>\n      <td>-0.202286</td>\n      <td>-0.267696</td>\n      <td>-0.094453</td>\n      <td>0.240923</td>\n      <td>-0.102066</td>\n      <td>-0.125354</td>\n    </tr>\n    <tr>\n      <th>Edges_Index</th>\n      <td>0.167358</td>\n      <td>0.129800</td>\n      <td>0.035762</td>\n      <td>0.034222</td>\n      <td>-0.337258</td>\n      <td>-0.326388</td>\n      <td>-0.320950</td>\n      <td>-0.309055</td>\n      <td>0.397904</td>\n      <td>0.153931</td>\n      <td>...</td>\n      <td>-0.362471</td>\n      <td>0.224152</td>\n      <td>0.313508</td>\n      <td>0.048415</td>\n      <td>-0.420367</td>\n      <td>-0.383782</td>\n      <td>-0.373661</td>\n      <td>0.080225</td>\n      <td>0.213547</td>\n      <td>-0.350934</td>\n    </tr>\n    <tr>\n      <th>Empty_Index</th>\n      <td>-0.175624</td>\n      <td>-0.146167</td>\n      <td>-0.033792</td>\n      <td>-0.032824</td>\n      <td>0.269263</td>\n      <td>0.322417</td>\n      <td>0.338079</td>\n      <td>0.271448</td>\n      <td>-0.096133</td>\n      <td>0.108878</td>\n      <td>...</td>\n      <td>0.293223</td>\n      <td>-0.323494</td>\n      <td>-0.465523</td>\n      <td>-0.205664</td>\n      <td>0.379479</td>\n      <td>0.421585</td>\n      <td>0.360459</td>\n      <td>-0.179199</td>\n      <td>0.085117</td>\n      <td>0.480116</td>\n    </tr>\n    <tr>\n      <th>Square_Index</th>\n      <td>0.045635</td>\n      <td>0.035124</td>\n      <td>0.033952</td>\n      <td>0.034552</td>\n      <td>0.024658</td>\n      <td>0.050052</td>\n      <td>0.003372</td>\n      <td>0.031948</td>\n      <td>0.062940</td>\n      <td>0.061480</td>\n      <td>...</td>\n      <td>-0.098957</td>\n      <td>0.299610</td>\n      <td>0.083152</td>\n      <td>-0.099019</td>\n      <td>-0.234846</td>\n      <td>-0.111598</td>\n      <td>-0.322514</td>\n      <td>-0.209706</td>\n      <td>0.082997</td>\n      <td>-0.361511</td>\n    </tr>\n    <tr>\n      <th>Outside_X_Index</th>\n      <td>-0.522112</td>\n      <td>-0.432545</td>\n      <td>0.019685</td>\n      <td>0.017271</td>\n      <td>0.764810</td>\n      <td>0.752470</td>\n      <td>0.700036</td>\n      <td>0.703912</td>\n      <td>-0.638549</td>\n      <td>0.074610</td>\n      <td>...</td>\n      <td>1.000000</td>\n      <td>-0.156802</td>\n      <td>-0.760021</td>\n      <td>-0.382777</td>\n      <td>0.811960</td>\n      <td>0.898341</td>\n      <td>0.598918</td>\n      <td>-0.467688</td>\n      <td>-0.050740</td>\n      <td>0.609049</td>\n    </tr>\n    <tr>\n      <th>Edges_X_Index</th>\n      <td>0.112746</td>\n      <td>0.095799</td>\n      <td>0.052710</td>\n      <td>0.051546</td>\n      <td>-0.303335</td>\n      <td>-0.378672</td>\n      <td>-0.469092</td>\n      <td>-0.315125</td>\n      <td>0.234592</td>\n      <td>-0.014785</td>\n      <td>...</td>\n      <td>-0.156802</td>\n      <td>1.000000</td>\n      <td>0.136147</td>\n      <td>-0.336322</td>\n      <td>-0.462665</td>\n      <td>-0.207693</td>\n      <td>-0.651384</td>\n      <td>-0.412696</td>\n      <td>0.072659</td>\n      <td>-0.538678</td>\n    </tr>\n    <tr>\n      <th>Edges_Y_Index</th>\n      <td>0.460421</td>\n      <td>0.391743</td>\n      <td>-0.002647</td>\n      <td>-0.001382</td>\n      <td>-0.650704</td>\n      <td>-0.664781</td>\n      <td>-0.612157</td>\n      <td>-0.608297</td>\n      <td>0.467841</td>\n      <td>-0.153276</td>\n      <td>...</td>\n      <td>-0.760021</td>\n      <td>0.136147</td>\n      <td>1.000000</td>\n      <td>0.529914</td>\n      <td>-0.713607</td>\n      <td>-0.851813</td>\n      <td>-0.464314</td>\n      <td>0.607271</td>\n      <td>-0.053778</td>\n      <td>-0.594737</td>\n    </tr>\n    <tr>\n      <th>Outside_Global_Index</th>\n      <td>0.222109</td>\n      <td>0.190474</td>\n      <td>-0.025374</td>\n      <td>-0.023285</td>\n      <td>-0.205579</td>\n      <td>-0.174615</td>\n      <td>-0.081225</td>\n      <td>-0.177048</td>\n      <td>0.112480</td>\n      <td>-0.120083</td>\n      <td>...</td>\n      <td>-0.382777</td>\n      <td>-0.336322</td>\n      <td>0.529914</td>\n      <td>1.000000</td>\n      <td>-0.168963</td>\n      <td>-0.436422</td>\n      <td>0.127741</td>\n      <td>0.863987</td>\n      <td>-0.115506</td>\n      <td>-0.105986</td>\n    </tr>\n    <tr>\n      <th>LogOfAreas</th>\n      <td>-0.505024</td>\n      <td>-0.428875</td>\n      <td>-0.001754</td>\n      <td>-0.000995</td>\n      <td>0.774580</td>\n      <td>0.771546</td>\n      <td>0.790863</td>\n      <td>0.726483</td>\n      <td>-0.691406</td>\n      <td>0.033191</td>\n      <td>...</td>\n      <td>0.811960</td>\n      <td>-0.462665</td>\n      <td>-0.713607</td>\n      <td>-0.168963</td>\n      <td>1.000000</td>\n      <td>0.888239</td>\n      <td>0.879228</td>\n      <td>-0.214866</td>\n      <td>-0.133567</td>\n      <td>0.872453</td>\n    </tr>\n    <tr>\n      <th>Log_X_Index</th>\n      <td>-0.530728</td>\n      <td>-0.448348</td>\n      <td>0.015116</td>\n      <td>0.015624</td>\n      <td>0.749731</td>\n      <td>0.750418</td>\n      <td>0.705657</td>\n      <td>0.698035</td>\n      <td>-0.637711</td>\n      <td>0.079426</td>\n      <td>...</td>\n      <td>0.898341</td>\n      <td>-0.207693</td>\n      <td>-0.851813</td>\n      <td>-0.436422</td>\n      <td>0.888239</td>\n      <td>1.000000</td>\n      <td>0.667899</td>\n      <td>-0.520981</td>\n      <td>-0.058458</td>\n      <td>0.748741</td>\n    </tr>\n    <tr>\n      <th>Log_Y_Index</th>\n      <td>-0.375324</td>\n      <td>-0.316770</td>\n      <td>-0.023702</td>\n      <td>-0.022941</td>\n      <td>0.640033</td>\n      <td>0.667441</td>\n      <td>0.761117</td>\n      <td>0.615651</td>\n      <td>-0.585194</td>\n      <td>0.004650</td>\n      <td>...</td>\n      <td>0.598918</td>\n      <td>-0.651384</td>\n      <td>-0.464314</td>\n      <td>0.127741</td>\n      <td>0.879228</td>\n      <td>0.667899</td>\n      <td>1.000000</td>\n      <td>0.144861</td>\n      <td>-0.157437</td>\n      <td>0.852450</td>\n    </tr>\n    <tr>\n      <th>Orientation_Index</th>\n      <td>0.276871</td>\n      <td>0.237157</td>\n      <td>-0.044202</td>\n      <td>-0.042490</td>\n      <td>-0.269013</td>\n      <td>-0.234969</td>\n      <td>-0.113968</td>\n      <td>-0.234625</td>\n      <td>0.179385</td>\n      <td>-0.113531</td>\n      <td>...</td>\n      <td>-0.467688</td>\n      <td>-0.412696</td>\n      <td>0.607271</td>\n      <td>0.863987</td>\n      <td>-0.214866</td>\n      <td>-0.520981</td>\n      <td>0.144861</td>\n      <td>1.000000</td>\n      <td>-0.104336</td>\n      <td>-0.089470</td>\n    </tr>\n    <tr>\n      <th>Luminosity_Index</th>\n      <td>-0.068844</td>\n      <td>-0.079235</td>\n      <td>-0.023000</td>\n      <td>-0.022869</td>\n      <td>-0.015081</td>\n      <td>0.005212</td>\n      <td>-0.005650</td>\n      <td>-0.013845</td>\n      <td>0.619174</td>\n      <td>0.853856</td>\n      <td>...</td>\n      <td>-0.050740</td>\n      <td>0.072659</td>\n      <td>-0.053778</td>\n      <td>-0.115506</td>\n      <td>-0.133567</td>\n      <td>-0.058458</td>\n      <td>-0.157437</td>\n      <td>-0.104336</td>\n      <td>1.000000</td>\n      <td>-0.119099</td>\n    </tr>\n    <tr>\n      <th>SigmoidOfAreas</th>\n      <td>-0.376973</td>\n      <td>-0.319598</td>\n      <td>-0.031511</td>\n      <td>-0.030345</td>\n      <td>0.542672</td>\n      <td>0.561256</td>\n      <td>0.608167</td>\n      <td>0.520282</td>\n      <td>-0.504692</td>\n      <td>0.018501</td>\n      <td>...</td>\n      <td>0.609049</td>\n      <td>-0.538678</td>\n      <td>-0.594737</td>\n      <td>-0.105986</td>\n      <td>0.872453</td>\n      <td>0.748741</td>\n      <td>0.852450</td>\n      <td>-0.089470</td>\n      <td>-0.119099</td>\n      <td>1.000000</td>\n    </tr>\n  </tbody>\n</table>\n<p>27 rows × 27 columns</p>\n</div>"
     },
     "execution_count": 9,
     "metadata": {},
     "output_type": "execute_result"
    }
   ],
   "source": [
    "X.corr()"
   ],
   "metadata": {
    "collapsed": false,
    "ExecuteTime": {
     "end_time": "2024-03-31T03:53:35.599508500Z",
     "start_time": "2024-03-31T03:53:35.542466500Z"
    }
   },
   "id": "6e3771ab81f9ec7"
  },
  {
   "cell_type": "code",
   "source": [
    "X['col_1'] = np.sqrt(X['Pixels_Areas'])\n",
    "X['col_2'] = np.exp(X['LogOfAreas'])\n",
    "X['col_2_1'] = np.exp(X['Log_X_Index'])\n",
    "X['col_2_2'] = np.exp(X['Log_Y_Index'])\n",
    "X['col_3'] = X['X_Perimeter'] / X['Y_Perimeter']\n",
    "X['col_4'] = (X['X_Maximum'] - X['X_Minimum']) * (X['Y_Maximum'] - X['Y_Minimum'])\n",
    "X[['col_5', 'col_51']] = np.exp(X[['Log_X_Index', 'Log_Y_Index']])\n",
    "\n",
    "_, bins_1 = pd.qcut(X['LogOfAreas'], q=10, retbins=True, duplicates='drop')\n",
    "_, bins_2 = pd.qcut(X['Pixels_Areas'], q=10, retbins=True, duplicates='drop')\n",
    "_, bins_3 = pd.qcut(X['Sum_of_Luminosity'], q=10, retbins=True, duplicates='drop')\n",
    "_, bins_4 = pd.qcut(X['Steel_Plate_Thickness'], q=10, retbins=True, duplicates='drop')\n",
    "_, bins_5 = pd.qcut(X['Length_of_Conveyer'], q=10, retbins=True, duplicates='drop')\n",
    "\n",
    "X['col_6'] = pd.cut(X['LogOfAreas'], bins_1, labels=False, include_lowest=True)\n",
    "X['col_7'] = pd.cut(X['Pixels_Areas'], bins_2, labels=False, include_lowest=True)\n",
    "X['col_8'] = pd.cut(X['Sum_of_Luminosity'], bins_3, labels=False, include_lowest=True)\n",
    "X['col_9'] = pd.cut(X['Steel_Plate_Thickness'], bins_4, labels=False, include_lowest=True)\n",
    "X['col_10'] = pd.cut(X['Length_of_Conveyer'], bins_5, labels=False, include_lowest=True)\n",
    "\n",
    "X['col_11'] = X['X_Minimum'] / X['X_Maximum']\n",
    "X['col_12'] = X['Y_Minimum'] / X['Y_Maximum']\n",
    "X['col_13'] = X['Sum_of_Luminosity'] / X['Pixels_Areas']\n",
    "X['col_14'] = X['Minimum_of_Luminosity'] / X['Maximum_of_Luminosity']\n",
    "X['col_15'] = X['X_Perimeter'] / X['Y_Perimeter']\n",
    "\n",
    "X['col_16'] = np.cos(np.exp(X['LogOfAreas']))\n",
    "X['col_17'] = X['Maximum_of_Luminosity'] - X['Minimum_of_Luminosity']\n",
    "X['col_18'] = np.log1p(X['Sum_of_Luminosity'])\n",
    "X['col_19'] = np.log1p(X['Length_of_Conveyer'])\n",
    "X['col_20'] = np.log1p(X['Steel_Plate_Thickness'])\n",
    "\n",
    "X['col_21'] = (X['Outside_Global_Index'] - X['Edges_Y_Index']) / (X['Outside_X_Index'] * X['Log_X_Index'] ** 2)\n",
    "X['col_22'] = X['Steel_Plate_Thickness'] / X['Length_of_Conveyer']\n",
    "X['col_23'] = X['Steel_Plate_Thickness'] / X['Edges_Y_Index'] * X['Outside_X_Index']\n",
    "X['col_24'] = (X['Log_X_Index'] * X['LogOfAreas']) / X['Edges_Y_Index']\n",
    "X['col_25'] = X['Pixels_Areas'] / (X['X_Perimeter'] + X['Y_Perimeter']) * X['Edges_Y_Index']\n",
    "X['col_26'] = (X['Pixels_Areas'] / (X['Y_Perimeter'] * X['Edges_Y_Index'])) / (\n",
    "        X['Sum_of_Luminosity'] - X['Minimum_of_Luminosity'])"
   ],
   "metadata": {
    "collapsed": false,
    "execution": {
     "iopub.status.busy": "2024-03-28T12:15:12.706813Z",
     "iopub.execute_input": "2024-03-28T12:15:12.707206Z",
     "iopub.status.idle": "2024-03-28T12:15:12.807819Z",
     "shell.execute_reply.started": "2024-03-28T12:15:12.707176Z",
     "shell.execute_reply": "2024-03-28T12:15:12.807056Z"
    },
    "trusted": true,
    "ExecuteTime": {
     "end_time": "2024-03-31T03:53:35.709714700Z",
     "start_time": "2024-03-31T03:53:35.603554100Z"
    }
   },
   "execution_count": 10,
   "outputs": [],
   "id": "d97101f97e09a204"
  },
  {
   "cell_type": "code",
   "source": [
    "# test dataset\n",
    "test['col_1'] = np.sqrt(test['Pixels_Areas'])\n",
    "test['col_2'] = np.exp(test['LogOfAreas'])\n",
    "test['col_2_1'] = np.exp(test['Log_X_Index'])\n",
    "test['col_2_2'] = np.exp(test['Log_Y_Index'])\n",
    "test['col_3'] = test['X_Perimeter'] / test['Y_Perimeter']\n",
    "test['col_4'] = (test['X_Maximum'] - test['X_Minimum']) * (test['Y_Maximum'] - test['Y_Minimum'])\n",
    "test[['col_5', 'col_51']] = np.exp(test[['Log_X_Index', 'Log_Y_Index']])\n",
    "\n",
    "test['col_6'] = pd.cut(test['LogOfAreas'], bins_1, labels=False, include_lowest=True)\n",
    "test['col_7'] = pd.cut(test['Pixels_Areas'], bins_2, labels=False, include_lowest=True)\n",
    "test['col_8'] = pd.cut(test['Sum_of_Luminosity'], bins_3, labels=False, include_lowest=True)\n",
    "test['col_9'] = pd.cut(test['Steel_Plate_Thickness'], bins_4, labels=False, include_lowest=True)\n",
    "test['col_10'] = pd.cut(test['Length_of_Conveyer'], bins_5, labels=False, include_lowest=True)\n",
    "\n",
    "test['col_11'] = test['X_Minimum'] / test['X_Maximum']\n",
    "test['col_12'] = test['Y_Minimum'] / test['Y_Maximum']\n",
    "test['col_13'] = test['Sum_of_Luminosity'] / test['Pixels_Areas']\n",
    "test['col_14'] = test['Minimum_of_Luminosity'] / test['Maximum_of_Luminosity']\n",
    "test['col_15'] = test['X_Perimeter'] / test['Y_Perimeter']\n",
    "\n",
    "test['col_16'] = np.cos(np.exp(test['LogOfAreas']))\n",
    "test['col_17'] = test['Maximum_of_Luminosity'] - test['Minimum_of_Luminosity']\n",
    "test['col_18'] = np.log1p(test['Sum_of_Luminosity'])\n",
    "test['col_19'] = np.log1p(test['Length_of_Conveyer'])\n",
    "test['col_20'] = np.log1p(test['Steel_Plate_Thickness'])\n",
    "\n",
    "test['col_21'] = (test['Outside_Global_Index'] - test['Edges_Y_Index']) / (\n",
    "        test['Outside_X_Index'] * test['Log_X_Index'] ** 2)\n",
    "test['col_22'] = test['Steel_Plate_Thickness'] / test['Length_of_Conveyer']\n",
    "test['col_23'] = test['Steel_Plate_Thickness'] / test['Edges_Y_Index'] * test['Outside_X_Index']\n",
    "test['col_24'] = (test['Log_X_Index'] * test['LogOfAreas']) / test['Edges_Y_Index']\n",
    "test['col_25'] = test['Pixels_Areas'] / (test['X_Perimeter'] + test['Y_Perimeter']) * test['Edges_Y_Index']\n",
    "test['col_26'] = (test['Pixels_Areas'] / (test['Y_Perimeter'] * test['Edges_Y_Index'])) / (\n",
    "        test['Sum_of_Luminosity'] - test['Minimum_of_Luminosity'])"
   ],
   "metadata": {
    "collapsed": false,
    "execution": {
     "iopub.status.busy": "2024-03-28T12:15:13.218697Z",
     "iopub.execute_input": "2024-03-28T12:15:13.219097Z",
     "iopub.status.idle": "2024-03-28T12:15:13.285672Z",
     "shell.execute_reply.started": "2024-03-28T12:15:13.219066Z",
     "shell.execute_reply": "2024-03-28T12:15:13.284773Z"
    },
    "trusted": true,
    "ExecuteTime": {
     "end_time": "2024-03-31T03:53:35.778290400Z",
     "start_time": "2024-03-31T03:53:35.640319800Z"
    }
   },
   "execution_count": 11,
   "outputs": [],
   "id": "61457b72e32b48d8"
  },
  {
   "cell_type": "code",
   "source": [
    "test = test.fillna(0)"
   ],
   "metadata": {
    "collapsed": false,
    "execution": {
     "iopub.status.busy": "2024-03-28T12:15:14.390209Z",
     "iopub.execute_input": "2024-03-28T12:15:14.390905Z",
     "iopub.status.idle": "2024-03-28T12:15:14.405494Z",
     "shell.execute_reply.started": "2024-03-28T12:15:14.390871Z",
     "shell.execute_reply": "2024-03-28T12:15:14.404671Z"
    },
    "trusted": true,
    "ExecuteTime": {
     "end_time": "2024-03-31T03:53:35.795037500Z",
     "start_time": "2024-03-31T03:53:35.660068900Z"
    }
   },
   "execution_count": 12,
   "outputs": [],
   "id": "6313fad2c40f7e63"
  },
  {
   "cell_type": "code",
   "source": [
    "X.shape, test.shape"
   ],
   "metadata": {
    "collapsed": false,
    "execution": {
     "iopub.status.busy": "2024-03-28T12:15:14.932875Z",
     "iopub.execute_input": "2024-03-28T12:15:14.933716Z",
     "iopub.status.idle": "2024-03-28T12:15:14.939586Z",
     "shell.execute_reply.started": "2024-03-28T12:15:14.933683Z",
     "shell.execute_reply": "2024-03-28T12:15:14.938615Z"
    },
    "trusted": true,
    "ExecuteTime": {
     "end_time": "2024-03-31T03:53:35.795037500Z",
     "start_time": "2024-03-31T03:53:35.668619Z"
    }
   },
   "execution_count": 13,
   "outputs": [
    {
     "data": {
      "text/plain": "((19219, 56), (12814, 56))"
     },
     "execution_count": 13,
     "metadata": {},
     "output_type": "execute_result"
    }
   ],
   "id": "6a8ad2f460959e72"
  },
  {
   "cell_type": "code",
   "source": [
    "pd.Series(ss.kurtosis(X), index=X.columns)"
   ],
   "metadata": {
    "collapsed": false,
    "execution": {
     "iopub.status.busy": "2024-03-28T12:15:16.538998Z",
     "iopub.execute_input": "2024-03-28T12:15:16.539386Z",
     "iopub.status.idle": "2024-03-28T12:15:16.585151Z",
     "shell.execute_reply.started": "2024-03-28T12:15:16.539358Z",
     "shell.execute_reply": "2024-03-28T12:15:16.584208Z"
    },
    "trusted": true,
    "ExecuteTime": {
     "end_time": "2024-03-31T03:53:35.836945900Z",
     "start_time": "2024-03-31T03:53:35.673180400Z"
    }
   },
   "execution_count": 14,
   "outputs": [
    {
     "data": {
      "text/plain": "X_Minimum                   -1.327648\nX_Maximum                   -1.257175\nY_Minimum                    8.865337\nY_Maximum                    8.839496\nPixels_Areas               181.689607\nX_Perimeter                167.364618\nY_Perimeter                  9.289275\nSum_of_Luminosity          121.178595\nMinimum_of_Luminosity       -0.003005\nMaximum_of_Luminosity        9.781119\nLength_of_Conveyer          -1.214170\nTypeOfSteel_A300            -1.842475\nTypeOfSteel_A400            -1.845782\nSteel_Plate_Thickness        5.757569\nEdges_Index                 -1.206891\nEmpty_Index                 -0.174450\nSquare_Index                -1.154852\nOutside_X_Index             20.005039\nEdges_X_Index               -0.779575\nEdges_Y_Index               -0.561567\nOutside_Global_Index        -1.819354\nLogOfAreas                  -0.253556\nLog_X_Index                 -0.064777\nLog_Y_Index                 -0.173621\nOrientation_Index           -1.093678\nLuminosity_Index             6.899609\nSigmoidOfAreas              -1.637538\ncol_1                        3.607200\ncol_2                        1.733053\ncol_2_1                      1.447408\ncol_2_2                     27.279967\ncol_3                      494.542567\ncol_4                     3046.381179\ncol_5                        1.447408\ncol_51                      27.279967\ncol_6                       -1.235557\ncol_7                       -1.236198\ncol_8                       -1.224468\ncol_9                       -0.752388\ncol_10                      -1.389386\ncol_11                   13728.634414\ncol_12                     918.375310\ncol_13                     977.175048\ncol_14                      -0.162323\ncol_15                     494.542567\ncol_16                      -1.507958\ncol_17                       1.104294\ncol_18                      -0.223669\ncol_19                      -1.225692\ncol_20                       0.601207\ncol_21                    1506.905019\ncol_22                       6.037107\ncol_23                    4200.415083\ncol_24                       9.348244\ncol_25                    2067.107780\ncol_26                    3641.620968\ndtype: float64"
     },
     "execution_count": 14,
     "metadata": {},
     "output_type": "execute_result"
    }
   ],
   "id": "345050b4e4522762"
  },
  {
   "cell_type": "code",
   "execution_count": 15,
   "outputs": [],
   "source": [
    "test['col_7'] = test['col_7'].astype(int)"
   ],
   "metadata": {
    "collapsed": false,
    "ExecuteTime": {
     "end_time": "2024-03-31T03:53:35.839194800Z",
     "start_time": "2024-03-31T03:53:35.706864600Z"
    }
   },
   "id": "93383f4df94daaa3"
  },
  {
   "cell_type": "code",
   "source": [
    "cap_cols = []\n",
    "\n",
    "for c in X.columns:\n",
    "    if c not in ['col_6', 'col_7', 'col_8', 'col_9', 'col_10', 'TypeOfSteel_A300', 'TypeOfSteel_A400']:\n",
    "        cap_cols.append(c)\n",
    "\n",
    "capper = Winsorizer(capping_method='iqr')\n",
    "capper.fit(X[cap_cols])"
   ],
   "metadata": {
    "collapsed": false,
    "execution": {
     "iopub.status.busy": "2024-03-28T12:15:18.049290Z",
     "iopub.execute_input": "2024-03-28T12:15:18.050140Z",
     "iopub.status.idle": "2024-03-28T12:15:18.133693Z",
     "shell.execute_reply.started": "2024-03-28T12:15:18.050110Z",
     "shell.execute_reply": "2024-03-28T12:15:18.132663Z"
    },
    "trusted": true,
    "ExecuteTime": {
     "end_time": "2024-03-31T03:53:35.890364400Z",
     "start_time": "2024-03-31T03:53:35.711014500Z"
    }
   },
   "execution_count": 16,
   "outputs": [
    {
     "data": {
      "text/plain": "Winsorizer(capping_method='iqr')",
      "text/html": "<style>#sk-container-id-1 {color: black;}#sk-container-id-1 pre{padding: 0;}#sk-container-id-1 div.sk-toggleable {background-color: white;}#sk-container-id-1 label.sk-toggleable__label {cursor: pointer;display: block;width: 100%;margin-bottom: 0;padding: 0.3em;box-sizing: border-box;text-align: center;}#sk-container-id-1 label.sk-toggleable__label-arrow:before {content: \"▸\";float: left;margin-right: 0.25em;color: #696969;}#sk-container-id-1 label.sk-toggleable__label-arrow:hover:before {color: black;}#sk-container-id-1 div.sk-estimator:hover label.sk-toggleable__label-arrow:before {color: black;}#sk-container-id-1 div.sk-toggleable__content {max-height: 0;max-width: 0;overflow: hidden;text-align: left;background-color: #f0f8ff;}#sk-container-id-1 div.sk-toggleable__content pre {margin: 0.2em;color: black;border-radius: 0.25em;background-color: #f0f8ff;}#sk-container-id-1 input.sk-toggleable__control:checked~div.sk-toggleable__content {max-height: 200px;max-width: 100%;overflow: auto;}#sk-container-id-1 input.sk-toggleable__control:checked~label.sk-toggleable__label-arrow:before {content: \"▾\";}#sk-container-id-1 div.sk-estimator input.sk-toggleable__control:checked~label.sk-toggleable__label {background-color: #d4ebff;}#sk-container-id-1 div.sk-label input.sk-toggleable__control:checked~label.sk-toggleable__label {background-color: #d4ebff;}#sk-container-id-1 input.sk-hidden--visually {border: 0;clip: rect(1px 1px 1px 1px);clip: rect(1px, 1px, 1px, 1px);height: 1px;margin: -1px;overflow: hidden;padding: 0;position: absolute;width: 1px;}#sk-container-id-1 div.sk-estimator {font-family: monospace;background-color: #f0f8ff;border: 1px dotted black;border-radius: 0.25em;box-sizing: border-box;margin-bottom: 0.5em;}#sk-container-id-1 div.sk-estimator:hover {background-color: #d4ebff;}#sk-container-id-1 div.sk-parallel-item::after {content: \"\";width: 100%;border-bottom: 1px solid gray;flex-grow: 1;}#sk-container-id-1 div.sk-label:hover label.sk-toggleable__label {background-color: #d4ebff;}#sk-container-id-1 div.sk-serial::before {content: \"\";position: absolute;border-left: 1px solid gray;box-sizing: border-box;top: 0;bottom: 0;left: 50%;z-index: 0;}#sk-container-id-1 div.sk-serial {display: flex;flex-direction: column;align-items: center;background-color: white;padding-right: 0.2em;padding-left: 0.2em;position: relative;}#sk-container-id-1 div.sk-item {position: relative;z-index: 1;}#sk-container-id-1 div.sk-parallel {display: flex;align-items: stretch;justify-content: center;background-color: white;position: relative;}#sk-container-id-1 div.sk-item::before, #sk-container-id-1 div.sk-parallel-item::before {content: \"\";position: absolute;border-left: 1px solid gray;box-sizing: border-box;top: 0;bottom: 0;left: 50%;z-index: -1;}#sk-container-id-1 div.sk-parallel-item {display: flex;flex-direction: column;z-index: 1;position: relative;background-color: white;}#sk-container-id-1 div.sk-parallel-item:first-child::after {align-self: flex-end;width: 50%;}#sk-container-id-1 div.sk-parallel-item:last-child::after {align-self: flex-start;width: 50%;}#sk-container-id-1 div.sk-parallel-item:only-child::after {width: 0;}#sk-container-id-1 div.sk-dashed-wrapped {border: 1px dashed gray;margin: 0 0.4em 0.5em 0.4em;box-sizing: border-box;padding-bottom: 0.4em;background-color: white;}#sk-container-id-1 div.sk-label label {font-family: monospace;font-weight: bold;display: inline-block;line-height: 1.2em;}#sk-container-id-1 div.sk-label-container {text-align: center;}#sk-container-id-1 div.sk-container {/* jupyter's `normalize.less` sets `[hidden] { display: none; }` but bootstrap.min.css set `[hidden] { display: none !important; }` so we also need the `!important` here to be able to override the default hidden behavior on the sphinx rendered scikit-learn.org. See: https://github.com/scikit-learn/scikit-learn/issues/21755 */display: inline-block !important;position: relative;}#sk-container-id-1 div.sk-text-repr-fallback {display: none;}</style><div id=\"sk-container-id-1\" class=\"sk-top-container\"><div class=\"sk-text-repr-fallback\"><pre>Winsorizer(capping_method=&#x27;iqr&#x27;)</pre><b>In a Jupyter environment, please rerun this cell to show the HTML representation or trust the notebook. <br />On GitHub, the HTML representation is unable to render, please try loading this page with nbviewer.org.</b></div><div class=\"sk-container\" hidden><div class=\"sk-item\"><div class=\"sk-estimator sk-toggleable\"><input class=\"sk-toggleable__control sk-hidden--visually\" id=\"sk-estimator-id-1\" type=\"checkbox\" checked><label for=\"sk-estimator-id-1\" class=\"sk-toggleable__label sk-toggleable__label-arrow\">Winsorizer</label><div class=\"sk-toggleable__content\"><pre>Winsorizer(capping_method=&#x27;iqr&#x27;)</pre></div></div></div></div></div>"
     },
     "execution_count": 16,
     "metadata": {},
     "output_type": "execute_result"
    }
   ],
   "id": "47463f477457d5fb"
  },
  {
   "cell_type": "code",
   "source": [
    "X.loc[:, cap_cols] = capper.transform(X[cap_cols])\n",
    "test.loc[:, cap_cols] = capper.transform(test[cap_cols])"
   ],
   "metadata": {
    "collapsed": false,
    "execution": {
     "iopub.status.busy": "2024-03-28T12:15:19.558065Z",
     "iopub.execute_input": "2024-03-28T12:15:19.558411Z",
     "iopub.status.idle": "2024-03-28T12:15:19.774900Z",
     "shell.execute_reply.started": "2024-03-28T12:15:19.558385Z",
     "shell.execute_reply": "2024-03-28T12:15:19.774071Z"
    },
    "trusted": true,
    "ExecuteTime": {
     "end_time": "2024-03-31T03:53:35.956434900Z",
     "start_time": "2024-03-31T03:53:35.765117500Z"
    }
   },
   "execution_count": 17,
   "outputs": [],
   "id": "3c2d5975f90c857"
  },
  {
   "cell_type": "code",
   "source": [
    "scalable_cols = []\n",
    "\n",
    "for c in X.columns:\n",
    "    if c not in ['col_6', 'col_7', 'col_8', 'col_9', 'col_10', 'TypeOfSteel_A300', 'TypeOfSteel_A400']:\n",
    "        scalable_cols.append(c)\n",
    "\n",
    "scaler = MinMaxScaler()\n",
    "scaler.fit(X[scalable_cols])"
   ],
   "metadata": {
    "collapsed": false,
    "execution": {
     "iopub.status.busy": "2024-03-28T12:15:20.307651Z",
     "iopub.execute_input": "2024-03-28T12:15:20.308037Z",
     "iopub.status.idle": "2024-03-28T12:15:20.331631Z",
     "shell.execute_reply.started": "2024-03-28T12:15:20.307996Z",
     "shell.execute_reply": "2024-03-28T12:15:20.330735Z"
    },
    "trusted": true,
    "ExecuteTime": {
     "end_time": "2024-03-31T03:53:35.960456600Z",
     "start_time": "2024-03-31T03:53:35.846591600Z"
    }
   },
   "execution_count": 18,
   "outputs": [
    {
     "data": {
      "text/plain": "MinMaxScaler()",
      "text/html": "<style>#sk-container-id-2 {color: black;}#sk-container-id-2 pre{padding: 0;}#sk-container-id-2 div.sk-toggleable {background-color: white;}#sk-container-id-2 label.sk-toggleable__label {cursor: pointer;display: block;width: 100%;margin-bottom: 0;padding: 0.3em;box-sizing: border-box;text-align: center;}#sk-container-id-2 label.sk-toggleable__label-arrow:before {content: \"▸\";float: left;margin-right: 0.25em;color: #696969;}#sk-container-id-2 label.sk-toggleable__label-arrow:hover:before {color: black;}#sk-container-id-2 div.sk-estimator:hover label.sk-toggleable__label-arrow:before {color: black;}#sk-container-id-2 div.sk-toggleable__content {max-height: 0;max-width: 0;overflow: hidden;text-align: left;background-color: #f0f8ff;}#sk-container-id-2 div.sk-toggleable__content pre {margin: 0.2em;color: black;border-radius: 0.25em;background-color: #f0f8ff;}#sk-container-id-2 input.sk-toggleable__control:checked~div.sk-toggleable__content {max-height: 200px;max-width: 100%;overflow: auto;}#sk-container-id-2 input.sk-toggleable__control:checked~label.sk-toggleable__label-arrow:before {content: \"▾\";}#sk-container-id-2 div.sk-estimator input.sk-toggleable__control:checked~label.sk-toggleable__label {background-color: #d4ebff;}#sk-container-id-2 div.sk-label input.sk-toggleable__control:checked~label.sk-toggleable__label {background-color: #d4ebff;}#sk-container-id-2 input.sk-hidden--visually {border: 0;clip: rect(1px 1px 1px 1px);clip: rect(1px, 1px, 1px, 1px);height: 1px;margin: -1px;overflow: hidden;padding: 0;position: absolute;width: 1px;}#sk-container-id-2 div.sk-estimator {font-family: monospace;background-color: #f0f8ff;border: 1px dotted black;border-radius: 0.25em;box-sizing: border-box;margin-bottom: 0.5em;}#sk-container-id-2 div.sk-estimator:hover {background-color: #d4ebff;}#sk-container-id-2 div.sk-parallel-item::after {content: \"\";width: 100%;border-bottom: 1px solid gray;flex-grow: 1;}#sk-container-id-2 div.sk-label:hover label.sk-toggleable__label {background-color: #d4ebff;}#sk-container-id-2 div.sk-serial::before {content: \"\";position: absolute;border-left: 1px solid gray;box-sizing: border-box;top: 0;bottom: 0;left: 50%;z-index: 0;}#sk-container-id-2 div.sk-serial {display: flex;flex-direction: column;align-items: center;background-color: white;padding-right: 0.2em;padding-left: 0.2em;position: relative;}#sk-container-id-2 div.sk-item {position: relative;z-index: 1;}#sk-container-id-2 div.sk-parallel {display: flex;align-items: stretch;justify-content: center;background-color: white;position: relative;}#sk-container-id-2 div.sk-item::before, #sk-container-id-2 div.sk-parallel-item::before {content: \"\";position: absolute;border-left: 1px solid gray;box-sizing: border-box;top: 0;bottom: 0;left: 50%;z-index: -1;}#sk-container-id-2 div.sk-parallel-item {display: flex;flex-direction: column;z-index: 1;position: relative;background-color: white;}#sk-container-id-2 div.sk-parallel-item:first-child::after {align-self: flex-end;width: 50%;}#sk-container-id-2 div.sk-parallel-item:last-child::after {align-self: flex-start;width: 50%;}#sk-container-id-2 div.sk-parallel-item:only-child::after {width: 0;}#sk-container-id-2 div.sk-dashed-wrapped {border: 1px dashed gray;margin: 0 0.4em 0.5em 0.4em;box-sizing: border-box;padding-bottom: 0.4em;background-color: white;}#sk-container-id-2 div.sk-label label {font-family: monospace;font-weight: bold;display: inline-block;line-height: 1.2em;}#sk-container-id-2 div.sk-label-container {text-align: center;}#sk-container-id-2 div.sk-container {/* jupyter's `normalize.less` sets `[hidden] { display: none; }` but bootstrap.min.css set `[hidden] { display: none !important; }` so we also need the `!important` here to be able to override the default hidden behavior on the sphinx rendered scikit-learn.org. See: https://github.com/scikit-learn/scikit-learn/issues/21755 */display: inline-block !important;position: relative;}#sk-container-id-2 div.sk-text-repr-fallback {display: none;}</style><div id=\"sk-container-id-2\" class=\"sk-top-container\"><div class=\"sk-text-repr-fallback\"><pre>MinMaxScaler()</pre><b>In a Jupyter environment, please rerun this cell to show the HTML representation or trust the notebook. <br />On GitHub, the HTML representation is unable to render, please try loading this page with nbviewer.org.</b></div><div class=\"sk-container\" hidden><div class=\"sk-item\"><div class=\"sk-estimator sk-toggleable\"><input class=\"sk-toggleable__control sk-hidden--visually\" id=\"sk-estimator-id-2\" type=\"checkbox\" checked><label for=\"sk-estimator-id-2\" class=\"sk-toggleable__label sk-toggleable__label-arrow\">MinMaxScaler</label><div class=\"sk-toggleable__content\"><pre>MinMaxScaler()</pre></div></div></div></div></div>"
     },
     "execution_count": 18,
     "metadata": {},
     "output_type": "execute_result"
    }
   ],
   "id": "1aeb96064da651a6"
  },
  {
   "cell_type": "code",
   "source": [
    "X.loc[:, scalable_cols] = scaler.transform(X[scalable_cols])"
   ],
   "metadata": {
    "collapsed": false,
    "execution": {
     "iopub.status.busy": "2024-03-28T12:15:20.945908Z",
     "iopub.execute_input": "2024-03-28T12:15:20.946818Z",
     "iopub.status.idle": "2024-03-28T12:15:20.992296Z",
     "shell.execute_reply.started": "2024-03-28T12:15:20.946785Z",
     "shell.execute_reply": "2024-03-28T12:15:20.991418Z"
    },
    "trusted": true,
    "ExecuteTime": {
     "end_time": "2024-03-31T03:53:35.976251600Z",
     "start_time": "2024-03-31T03:53:35.861691Z"
    }
   },
   "execution_count": 19,
   "outputs": [],
   "id": "2056f3ceedd54c50"
  },
  {
   "cell_type": "code",
   "source": [
    "test.loc[:, scalable_cols] = scaler.transform(test[scalable_cols])"
   ],
   "metadata": {
    "collapsed": false,
    "execution": {
     "iopub.status.busy": "2024-03-28T12:15:21.638024Z",
     "iopub.execute_input": "2024-03-28T12:15:21.638475Z",
     "iopub.status.idle": "2024-03-28T12:15:21.677565Z",
     "shell.execute_reply.started": "2024-03-28T12:15:21.638447Z",
     "shell.execute_reply": "2024-03-28T12:15:21.676652Z"
    },
    "trusted": true,
    "ExecuteTime": {
     "end_time": "2024-03-31T03:53:35.979906900Z",
     "start_time": "2024-03-31T03:53:35.883351200Z"
    }
   },
   "execution_count": 20,
   "outputs": [],
   "id": "9d37107d52753820"
  },
  {
   "cell_type": "code",
   "source": [
    "high_informative = ['Pixels_Areas', 'Outside_X_Index', 'LogOfAreas', 'Sum_of_Luminosity', 'X_Perimeter', 'Log_X_Index',\n",
    "                    'X_Minimum', 'Y_Perimeter', 'X_Maximum', 'Edges_Index', 'SigmoidOfAreas', 'Log_Y_Index',\n",
    "                    'Edges_Y_Index', 'Minimum_of_Luminosity', 'Steel_Plate_Thickness', 'Edges_X_Index',\n",
    "                    'Length_of_Conveyer', ]"
   ],
   "metadata": {
    "collapsed": false,
    "execution": {
     "iopub.status.busy": "2024-03-28T12:15:22.867636Z",
     "iopub.execute_input": "2024-03-28T12:15:22.867971Z",
     "iopub.status.idle": "2024-03-28T12:15:22.873190Z",
     "shell.execute_reply.started": "2024-03-28T12:15:22.867947Z",
     "shell.execute_reply": "2024-03-28T12:15:22.871961Z"
    },
    "trusted": true,
    "ExecuteTime": {
     "end_time": "2024-03-31T03:53:35.980908400Z",
     "start_time": "2024-03-31T03:53:35.894755600Z"
    }
   },
   "execution_count": 21,
   "outputs": [],
   "id": "7615ff9d87c1fee0"
  },
  {
   "cell_type": "code",
   "source": [
    "lda = LatentDirichletAllocation(9, n_jobs=-1).fit(X[high_informative])\n",
    "\n",
    "X.loc[:, [f'lda_{i}' for i in range(9)]] = lda.transform(X[high_informative])\n",
    "test.loc[:, [f'lda_{i}' for i in range(9)]] = lda.transform(np.abs(test[high_informative]))"
   ],
   "metadata": {
    "collapsed": false,
    "execution": {
     "iopub.status.busy": "2024-03-28T12:15:23.483278Z",
     "iopub.execute_input": "2024-03-28T12:15:23.484001Z",
     "iopub.status.idle": "2024-03-28T12:15:57.707767Z",
     "shell.execute_reply.started": "2024-03-28T12:15:23.483970Z",
     "shell.execute_reply": "2024-03-28T12:15:57.706557Z"
    },
    "trusted": true,
    "ExecuteTime": {
     "end_time": "2024-03-31T03:53:55.952722400Z",
     "start_time": "2024-03-31T03:53:35.898337700Z"
    }
   },
   "execution_count": 22,
   "outputs": [],
   "id": "2a4aef4b0c753930"
  },
  {
   "cell_type": "code",
   "source": [
    "svd = TruncatedSVD(n_components=3).fit(X[high_informative])\n",
    "\n",
    "X.loc[:, [f'svd_{i}' for i in range(3)]] = svd.transform(X[high_informative])\n",
    "test.loc[:, [f'svd_{i}' for i in range(3)]] = svd.transform(test[high_informative])"
   ],
   "metadata": {
    "collapsed": false,
    "execution": {
     "iopub.status.busy": "2024-03-28T12:15:57.709741Z",
     "iopub.execute_input": "2024-03-28T12:15:57.710085Z",
     "iopub.status.idle": "2024-03-28T12:15:58.047888Z",
     "shell.execute_reply.started": "2024-03-28T12:15:57.710057Z",
     "shell.execute_reply": "2024-03-28T12:15:58.046180Z"
    },
    "trusted": true,
    "ExecuteTime": {
     "end_time": "2024-03-31T03:53:55.968630900Z",
     "start_time": "2024-03-31T03:53:55.904429800Z"
    }
   },
   "execution_count": 23,
   "outputs": [],
   "id": "edb3e98a238340e1"
  },
  {
   "cell_type": "code",
   "source": [
    "cluster = KMeans(n_clusters=5).fit(X[high_informative])\n",
    "\n",
    "X.loc[:, 'clus'] = cluster.predict(X[high_informative])\n",
    "test.loc[:, 'clus'] = cluster.predict(test[high_informative])"
   ],
   "metadata": {
    "collapsed": false,
    "execution": {
     "iopub.status.busy": "2024-03-28T12:15:58.051226Z",
     "iopub.execute_input": "2024-03-28T12:15:58.053377Z",
     "iopub.status.idle": "2024-03-28T12:15:58.285772Z",
     "shell.execute_reply.started": "2024-03-28T12:15:58.053310Z",
     "shell.execute_reply": "2024-03-28T12:15:58.284862Z"
    },
    "trusted": true,
    "ExecuteTime": {
     "end_time": "2024-03-31T03:53:56.552766300Z",
     "start_time": "2024-03-31T03:53:55.968630900Z"
    }
   },
   "execution_count": 24,
   "outputs": [],
   "id": "4a84e14f38174913"
  },
  {
   "cell_type": "code",
   "source": [
    "agg = FeatureAgglomeration(3).fit(X[high_informative])\n",
    "\n",
    "X.loc[:, [f'agg_{i}' for i in range(3)]] = agg.transform(X[high_informative])\n",
    "test.loc[:, [f'agg_{i}' for i in range(3)]] = agg.transform(test[high_informative])"
   ],
   "metadata": {
    "collapsed": false,
    "execution": {
     "iopub.status.busy": "2024-03-28T12:15:58.288307Z",
     "iopub.execute_input": "2024-03-28T12:15:58.288891Z",
     "iopub.status.idle": "2024-03-28T12:15:58.492106Z",
     "shell.execute_reply.started": "2024-03-28T12:15:58.288853Z",
     "shell.execute_reply": "2024-03-28T12:15:58.491249Z"
    },
    "trusted": true,
    "ExecuteTime": {
     "end_time": "2024-03-31T03:53:56.624692Z",
     "start_time": "2024-03-31T03:53:56.509357800Z"
    }
   },
   "execution_count": 25,
   "outputs": [],
   "id": "6743cad52fd065bc"
  },
  {
   "cell_type": "code",
   "source": [
    "X.shape, test.shape"
   ],
   "metadata": {
    "collapsed": false,
    "execution": {
     "iopub.status.busy": "2024-03-28T12:18:25.219187Z",
     "iopub.execute_input": "2024-03-28T12:18:25.219575Z",
     "iopub.status.idle": "2024-03-28T12:18:25.226967Z",
     "shell.execute_reply.started": "2024-03-28T12:18:25.219541Z",
     "shell.execute_reply": "2024-03-28T12:18:25.225899Z"
    },
    "trusted": true,
    "ExecuteTime": {
     "end_time": "2024-03-31T03:53:56.637455200Z",
     "start_time": "2024-03-31T03:53:56.624692Z"
    }
   },
   "execution_count": 26,
   "outputs": [
    {
     "data": {
      "text/plain": "((19219, 72), (12814, 72))"
     },
     "execution_count": 26,
     "metadata": {},
     "output_type": "execute_result"
    }
   ],
   "id": "8b986a797c2d4738"
  },
  {
   "cell_type": "code",
   "source": [
    "mut_info = pd.DataFrame(np.zeros((72)), index=X.columns)\n",
    "\n",
    "for i in range(7):\n",
    "    mut_info[i] = pd.Series(mutual_info_classif(X, Y.iloc[:, i]), index=X.columns)\n",
    "\n",
    "mut_info"
   ],
   "metadata": {
    "collapsed": false,
    "execution": {
     "iopub.status.busy": "2024-03-28T12:18:25.228390Z",
     "iopub.execute_input": "2024-03-28T12:18:25.228701Z",
     "iopub.status.idle": "2024-03-28T12:19:18.447512Z",
     "shell.execute_reply.started": "2024-03-28T12:18:25.228678Z",
     "shell.execute_reply": "2024-03-28T12:19:18.446584Z"
    },
    "trusted": true,
    "ExecuteTime": {
     "end_time": "2024-03-31T03:54:32.453797Z",
     "start_time": "2024-03-31T03:53:56.630376200Z"
    }
   },
   "execution_count": 27,
   "outputs": [
    {
     "data": {
      "text/plain": "                     0         1         2         3         4         5  \\\nX_Minimum     0.023983  0.032730  0.296238  0.024404  0.016458  0.061845   \nX_Maximum     0.027758  0.036715  0.294155  0.021970  0.015273  0.058389   \nY_Minimum     0.007007  0.003331  0.150820  0.016238  0.005136  0.034650   \nY_Maximum     0.008569  0.004115  0.149805  0.017007  0.004603  0.034184   \nPixels_Areas  0.017168  0.011173  0.293786  0.079646  0.007606  0.069118   \n...                ...       ...       ...       ...       ...       ...   \nsvd_2         0.013561  0.010077  0.153069  0.022667  0.002046  0.017820   \nclus          0.014423  0.026072  0.298588  0.019762  0.009176  0.055785   \nagg_0         0.018236  0.013031  0.310731  0.075893  0.008524  0.071910   \nagg_1         0.010268  0.029775  0.267268  0.021202  0.007744  0.058284   \nagg_2         0.034863  0.016020  0.283403  0.015187  0.006639  0.047309   \n\n                     6  \nX_Minimum     0.039601  \nX_Maximum     0.036960  \nY_Minimum     0.023891  \nY_Maximum     0.023906  \nPixels_Areas  0.041713  \n...                ...  \nsvd_2         0.015875  \nclus          0.036838  \nagg_0         0.037570  \nagg_1         0.038987  \nagg_2         0.033492  \n\n[72 rows x 7 columns]",
      "text/html": "<div>\n<style scoped>\n    .dataframe tbody tr th:only-of-type {\n        vertical-align: middle;\n    }\n\n    .dataframe tbody tr th {\n        vertical-align: top;\n    }\n\n    .dataframe thead th {\n        text-align: right;\n    }\n</style>\n<table border=\"1\" class=\"dataframe\">\n  <thead>\n    <tr style=\"text-align: right;\">\n      <th></th>\n      <th>0</th>\n      <th>1</th>\n      <th>2</th>\n      <th>3</th>\n      <th>4</th>\n      <th>5</th>\n      <th>6</th>\n    </tr>\n  </thead>\n  <tbody>\n    <tr>\n      <th>X_Minimum</th>\n      <td>0.023983</td>\n      <td>0.032730</td>\n      <td>0.296238</td>\n      <td>0.024404</td>\n      <td>0.016458</td>\n      <td>0.061845</td>\n      <td>0.039601</td>\n    </tr>\n    <tr>\n      <th>X_Maximum</th>\n      <td>0.027758</td>\n      <td>0.036715</td>\n      <td>0.294155</td>\n      <td>0.021970</td>\n      <td>0.015273</td>\n      <td>0.058389</td>\n      <td>0.036960</td>\n    </tr>\n    <tr>\n      <th>Y_Minimum</th>\n      <td>0.007007</td>\n      <td>0.003331</td>\n      <td>0.150820</td>\n      <td>0.016238</td>\n      <td>0.005136</td>\n      <td>0.034650</td>\n      <td>0.023891</td>\n    </tr>\n    <tr>\n      <th>Y_Maximum</th>\n      <td>0.008569</td>\n      <td>0.004115</td>\n      <td>0.149805</td>\n      <td>0.017007</td>\n      <td>0.004603</td>\n      <td>0.034184</td>\n      <td>0.023906</td>\n    </tr>\n    <tr>\n      <th>Pixels_Areas</th>\n      <td>0.017168</td>\n      <td>0.011173</td>\n      <td>0.293786</td>\n      <td>0.079646</td>\n      <td>0.007606</td>\n      <td>0.069118</td>\n      <td>0.041713</td>\n    </tr>\n    <tr>\n      <th>...</th>\n      <td>...</td>\n      <td>...</td>\n      <td>...</td>\n      <td>...</td>\n      <td>...</td>\n      <td>...</td>\n      <td>...</td>\n    </tr>\n    <tr>\n      <th>svd_2</th>\n      <td>0.013561</td>\n      <td>0.010077</td>\n      <td>0.153069</td>\n      <td>0.022667</td>\n      <td>0.002046</td>\n      <td>0.017820</td>\n      <td>0.015875</td>\n    </tr>\n    <tr>\n      <th>clus</th>\n      <td>0.014423</td>\n      <td>0.026072</td>\n      <td>0.298588</td>\n      <td>0.019762</td>\n      <td>0.009176</td>\n      <td>0.055785</td>\n      <td>0.036838</td>\n    </tr>\n    <tr>\n      <th>agg_0</th>\n      <td>0.018236</td>\n      <td>0.013031</td>\n      <td>0.310731</td>\n      <td>0.075893</td>\n      <td>0.008524</td>\n      <td>0.071910</td>\n      <td>0.037570</td>\n    </tr>\n    <tr>\n      <th>agg_1</th>\n      <td>0.010268</td>\n      <td>0.029775</td>\n      <td>0.267268</td>\n      <td>0.021202</td>\n      <td>0.007744</td>\n      <td>0.058284</td>\n      <td>0.038987</td>\n    </tr>\n    <tr>\n      <th>agg_2</th>\n      <td>0.034863</td>\n      <td>0.016020</td>\n      <td>0.283403</td>\n      <td>0.015187</td>\n      <td>0.006639</td>\n      <td>0.047309</td>\n      <td>0.033492</td>\n    </tr>\n  </tbody>\n</table>\n<p>72 rows × 7 columns</p>\n</div>"
     },
     "execution_count": 27,
     "metadata": {},
     "output_type": "execute_result"
    }
   ],
   "id": "5779e283ddcd744c"
  },
  {
   "cell_type": "code",
   "source": [
    "estimator = RandomForestClassifier(max_depth=3, n_jobs=-1)\n",
    "best_cols = set()\n",
    "\n",
    "for i, c in enumerate(ys):\n",
    "    selector = RFECV(estimator, min_features_to_select=18, cv=3, scoring='roc_auc', n_jobs=-1)\n",
    "    selector.fit(X, Y.iloc[:, i])\n",
    "\n",
    "    print(f'feat: {i}')\n",
    "    print(selector.n_features_)\n",
    "\n",
    "    if selector.n_features_ < 48:\n",
    "        for col in selector.get_feature_names_out():\n",
    "            best_cols.add(col)"
   ],
   "metadata": {
    "execution": {
     "iopub.status.busy": "2024-03-28T13:30:56.502782Z",
     "iopub.execute_input": "2024-03-28T13:30:56.503608Z",
     "iopub.status.idle": "2024-03-28T13:30:59.840746Z",
     "shell.execute_reply.started": "2024-03-28T13:30:56.503578Z",
     "shell.execute_reply": "2024-03-28T13:30:59.839287Z"
    },
    "trusted": true,
    "ExecuteTime": {
     "end_time": "2024-03-31T06:02:51.150944800Z",
     "start_time": "2024-03-31T05:56:56.044246200Z"
    }
   },
   "execution_count": 60,
   "outputs": [
    {
     "name": "stdout",
     "output_type": "stream",
     "text": [
      "feat: 0\n",
      "56\n",
      "feat: 1\n",
      "27\n",
      "feat: 2\n",
      "68\n",
      "feat: 3\n",
      "45\n",
      "feat: 4\n",
      "59\n",
      "feat: 5\n",
      "45\n",
      "feat: 6\n",
      "63\n"
     ]
    }
   ],
   "id": "3d719090662ed7f1"
  },
  {
   "cell_type": "code",
   "execution_count": 61,
   "outputs": [
    {
     "data": {
      "text/plain": "57"
     },
     "execution_count": 61,
     "metadata": {},
     "output_type": "execute_result"
    }
   ],
   "source": [
    "best_cols = list(best_cols)\n",
    "len(best_cols)"
   ],
   "metadata": {
    "collapsed": false,
    "ExecuteTime": {
     "end_time": "2024-03-31T06:03:07.655442200Z",
     "start_time": "2024-03-31T06:03:07.643495100Z"
    }
   },
   "id": "19b628b94633f71a"
  },
  {
   "cell_type": "markdown",
   "source": [
    "## models"
   ],
   "metadata": {},
   "id": "5165d7965ec6106f"
  },
  {
   "cell_type": "code",
   "source": [
    "cv = MultilabelStratifiedKFold(3, shuffle=True, random_state=48)"
   ],
   "metadata": {
    "collapsed": false,
    "execution": {
     "iopub.status.busy": "2024-03-28T12:21:05.517184Z",
     "iopub.execute_input": "2024-03-28T12:21:05.517563Z",
     "iopub.status.idle": "2024-03-28T12:21:05.522422Z",
     "shell.execute_reply.started": "2024-03-28T12:21:05.517535Z",
     "shell.execute_reply": "2024-03-28T12:21:05.521370Z"
    },
    "trusted": true,
    "ExecuteTime": {
     "end_time": "2024-03-30T12:38:13.827312600Z",
     "start_time": "2024-03-30T12:38:13.817652900Z"
    }
   },
   "execution_count": 33,
   "outputs": [],
   "id": "2ee8f1ddd708737f"
  },
  {
   "cell_type": "code",
   "source": [
    "def object(trial):\n",
    "    params = dict(iterations=100,\n",
    "                  depth=trial.suggest_int('depth', 1, 6),\n",
    "                  # num_leaves=trial.suggest_int('num_leaves ', 3, 15),\n",
    "                  # bagging_freq=trial.suggest_int('bagging_freq', 32, 256),\n",
    "                  # subsample=trial.suggest_float('subsample ', 5e-1, 1.0),\n",
    "                  learning_rate=trial.suggest_float('learning_rate', 1e-4, 1e-1),\n",
    "                  # gamma=trial.suggest_float('gamma ', 1e-3, 1e-1),\n",
    "                  # feature_fraction=trial.suggest_float('feature_fraction ', 7e-1, 9e-1),\n",
    "                  # colsample_bytree=trial.suggest_float('colsample_bytree', 6e-1, 9e-1),\n",
    "                  # colsample_bylevel=trial.suggest_float('colsample_bylevel ', 6e-1, 9e-1),\n",
    "                  # reg_alpha=trial.suggest_float('reg_alpha ', 1e-8, 1e-3),\n",
    "                  # lambda_l1=trial.suggest_float('reg_lambda ', 1e-3, 1),\n",
    "                  )\n",
    "    estimator = make_pipeline(MultiOutputClassifier(CatBoostClassifier(**params,\n",
    "                                                                       # device='gpu',\n",
    "                                                                       task_type=\"GPU\",\n",
    "                                                                       cat_features=['col_7', 'col_9', 'col_10',\n",
    "                                                                                     'TypeOfSteel_A300',\n",
    "                                                                                     'TypeOfSteel_A400'],\n",
    "                                                                       silent=True,\n",
    "                                                                       # thread_count=-1\n",
    "                                                                       # n_jobs=-1\n",
    "                                                                       )))\n",
    "    score = []\n",
    "\n",
    "    for i, (t_idx, v_idx) in enumerate(cv.split(X[best_cols], Y)):\n",
    "        train_x, valid_x = X.loc[t_idx, best_cols], X.loc[v_idx, best_cols]\n",
    "        train_y, valid_y = Y.loc[t_idx, :], Y.loc[v_idx, :]\n",
    "\n",
    "        estimator.fit(train_x, train_y)\n",
    "        pred_vals = estimator.predict_proba(valid_x)\n",
    "        avg_auc = np.mean([roc_auc_score(valid_y.iloc[:, i], pred_vals[i][:, 1]) for i in range(len(ys))])\n",
    "\n",
    "        score.append(avg_auc)\n",
    "\n",
    "    return np.mean(score)\n",
    "\n",
    "\n",
    "study = optuna.create_study(direction='maximize')\n",
    "study.optimize(object, n_trials=10)"
   ],
   "metadata": {
    "collapsed": false,
    "execution": {
     "iopub.status.busy": "2024-03-28T13:06:57.475165Z",
     "iopub.execute_input": "2024-03-28T13:06:57.475939Z",
     "iopub.status.idle": "2024-03-28T13:13:59.336659Z",
     "shell.execute_reply.started": "2024-03-28T13:06:57.475904Z",
     "shell.execute_reply": "2024-03-28T13:13:59.335469Z"
    },
    "trusted": true,
    "ExecuteTime": {
     "end_time": "2024-03-30T18:37:53.482021500Z",
     "start_time": "2024-03-30T18:24:02.407662200Z"
    }
   },
   "execution_count": 73,
   "outputs": [
    {
     "name": "stderr",
     "output_type": "stream",
     "text": [
      "[I 2024-03-30 23:54:02,407] A new study created in memory with name: no-name-fd0147a5-651d-4f66-94f3-9ad54a89c13d\n",
      "[I 2024-03-30 23:55:15,999] Trial 0 finished with value: 0.880554124356779 and parameters: {'depth': 2, 'learning_rate': 0.07312909163565622}. Best is trial 0 with value: 0.880554124356779.\n",
      "[I 2024-03-30 23:56:20,920] Trial 1 finished with value: 0.8640079559138293 and parameters: {'depth': 1, 'learning_rate': 0.04677669220148422}. Best is trial 0 with value: 0.880554124356779.\n",
      "[I 2024-03-30 23:57:25,002] Trial 2 finished with value: 0.8725806268708336 and parameters: {'depth': 1, 'learning_rate': 0.0893862054296131}. Best is trial 0 with value: 0.880554124356779.\n",
      "[I 2024-03-30 23:58:33,847] Trial 3 finished with value: 0.8819773863024064 and parameters: {'depth': 3, 'learning_rate': 0.04897910349889187}. Best is trial 3 with value: 0.8819773863024064.\n",
      "[I 2024-03-30 23:59:57,622] Trial 4 finished with value: 0.8447285817295603 and parameters: {'depth': 1, 'learning_rate': 0.012448719409840414}. Best is trial 3 with value: 0.8819773863024064.\n",
      "[I 2024-03-31 00:01:44,069] Trial 5 finished with value: 0.8852201081600081 and parameters: {'depth': 6, 'learning_rate': 0.03701738998059757}. Best is trial 5 with value: 0.8852201081600081.\n",
      "[I 2024-03-31 00:03:20,402] Trial 6 finished with value: 0.8851760096962064 and parameters: {'depth': 4, 'learning_rate': 0.09154791587755222}. Best is trial 5 with value: 0.8852201081600081.\n",
      "[I 2024-03-31 00:04:43,486] Trial 7 finished with value: 0.8675489432544781 and parameters: {'depth': 1, 'learning_rate': 0.06028930840111754}. Best is trial 5 with value: 0.8852201081600081.\n",
      "[I 2024-03-31 00:06:16,951] Trial 8 finished with value: 0.8828579242595576 and parameters: {'depth': 3, 'learning_rate': 0.06414941672783916}. Best is trial 5 with value: 0.8852201081600081.\n",
      "[I 2024-03-31 00:07:53,471] Trial 9 finished with value: 0.8789729292319445 and parameters: {'depth': 4, 'learning_rate': 0.019252457106889755}. Best is trial 5 with value: 0.8852201081600081.\n"
     ]
    }
   ],
   "id": "2eae427a81a7458f"
  },
  {
   "cell_type": "code",
   "source": [
    "study.best_params"
   ],
   "metadata": {
    "collapsed": false,
    "trusted": true,
    "ExecuteTime": {
     "end_time": "2024-03-30T18:41:20.232399600Z",
     "start_time": "2024-03-30T18:41:20.190001300Z"
    }
   },
   "execution_count": 74,
   "outputs": [
    {
     "data": {
      "text/plain": "{'depth': 6, 'learning_rate': 0.03701738998059757}"
     },
     "execution_count": 74,
     "metadata": {},
     "output_type": "execute_result"
    }
   ],
   "id": "54cf7236d6459134"
  },
  {
   "cell_type": "code",
   "execution_count": 45,
   "outputs": [],
   "source": [
    "def test_params(model, x, y):\n",
    "    for i, (t_idx, v_idx) in enumerate(cv.split(x[best_cols], y)):\n",
    "        train_x, valid_x = x.loc[t_idx, best_cols], x.loc[v_idx, best_cols]\n",
    "        train_y, valid_y = y.loc[t_idx, :], y.loc[v_idx, :]\n",
    "\n",
    "        estimator = make_pipeline(MultiOutputClassifier(model))\n",
    "        estimator.fit(train_x, train_y)\n",
    "\n",
    "        pred_vals = estimator.predict_proba(valid_x)\n",
    "\n",
    "        print(f'fold: {i}')\n",
    "        print(np.mean([roc_auc_score(valid_y.iloc[:, i], pred_vals[i][:, 1]) for i in range(len(ys))]))"
   ],
   "metadata": {
    "collapsed": false,
    "ExecuteTime": {
     "end_time": "2024-03-31T04:57:06.847018500Z",
     "start_time": "2024-03-31T04:57:06.757934200Z"
    }
   },
   "id": "7a68bce44e144412"
  },
  {
   "cell_type": "code",
   "source": [
    "cv = MultilabelStratifiedKFold(n_splits=7, shuffle=True)\n",
    "model = XGBClassifier(n_estimators=1000,\n",
    "                      max_depth=6,\n",
    "                      subsample=0.5342564004636723,\n",
    "                      learning_rate=0.0064835939090773,\n",
    "                      colsample_bytree=0.8195724454605662,\n",
    "                      reg_lambda=0.09829546268908843,\n",
    "                      device='cuda:0',\n",
    "                      verbosity=0)\n",
    "\n",
    "test_params(model, X, Y)"
   ],
   "metadata": {
    "collapsed": false,
    "ExecuteTime": {
     "end_time": "2024-03-31T05:00:55.061107100Z",
     "start_time": "2024-03-31T04:57:57.586839500Z"
    }
   },
   "execution_count": 46,
   "outputs": [
    {
     "name": "stdout",
     "output_type": "stream",
     "text": [
      "fold: 0\n",
      "0.8849226517596708\n",
      "fold: 1\n",
      "0.8931876617905583\n",
      "fold: 2\n",
      "0.891661738769353\n",
      "fold: 3\n",
      "0.8853277425377971\n",
      "fold: 4\n",
      "0.8850317686467927\n",
      "fold: 5\n",
      "0.8848017282457141\n",
      "fold: 6\n",
      "0.8886184681449832\n"
     ]
    }
   ],
   "id": "d33c79019e7c3ace"
  },
  {
   "cell_type": "code",
   "execution_count": 66,
   "outputs": [
    {
     "name": "stdout",
     "output_type": "stream",
     "text": [
      "fold: 0\n",
      "0.8920737970472583\n",
      "fold: 1\n",
      "0.8870478399153396\n",
      "fold: 2\n",
      "0.890077136260705\n",
      "fold: 3\n",
      "0.8841728971014969\n",
      "fold: 4\n",
      "0.8837622048330978\n",
      "fold: 5\n",
      "0.8871467629125925\n",
      "fold: 6\n",
      "0.8751664505575947\n"
     ]
    }
   ],
   "source": [
    "model = LGBMClassifier(num_iterations=1000,\n",
    "                       max_depth=3,\n",
    "                       learning_rate=0.0080988815333333,\n",
    "                       feature_fraction=0.8578138132619784,\n",
    "                       colsample_bytree=0.8768880865721203,\n",
    "                       reg_lambda=0.7173767456929144,\n",
    "                       device=\"gpu\",\n",
    "                       verbose=-1)\n",
    "\n",
    "test_params(model, X, Y)"
   ],
   "metadata": {
    "collapsed": false,
    "ExecuteTime": {
     "end_time": "2024-03-30T17:21:42.193493600Z",
     "start_time": "2024-03-30T17:20:32.938721800Z"
    }
   },
   "id": "c64db212871c0e3f"
  },
  {
   "cell_type": "code",
   "execution_count": 79,
   "outputs": [
    {
     "name": "stdout",
     "output_type": "stream",
     "text": [
      "fold: 0\n",
      "0.8890593369897309\n",
      "fold: 1\n",
      "0.8789952136800532\n",
      "fold: 2\n",
      "0.8969150694199223\n",
      "fold: 3\n",
      "0.8859010073870588\n",
      "fold: 4\n",
      "0.8765044889605511\n",
      "fold: 5\n",
      "0.8873215540463276\n",
      "fold: 6\n",
      "0.8826735494017937\n"
     ]
    }
   ],
   "source": [
    "model = CatBoostClassifier(iterations=110,\n",
    "                           depth=6,\n",
    "                           learning_rate=0.05201739,\n",
    "                           task_type=\"GPU\",\n",
    "                           cat_features=['col_7', 'col_9', 'col_10',\n",
    "                                         'TypeOfSteel_A300',\n",
    "                                         'TypeOfSteel_A400'],\n",
    "                           silent=True)\n",
    "\n",
    "test_params(model, X, Y)"
   ],
   "metadata": {
    "collapsed": false,
    "ExecuteTime": {
     "end_time": "2024-03-30T18:56:01.220093200Z",
     "start_time": "2024-03-30T18:54:32.769016500Z"
    }
   },
   "id": "51067c127f5d9df"
  },
  {
   "cell_type": "code",
   "execution_count": 79,
   "outputs": [],
   "source": [
    "class SteelDataset(Dataset):\n",
    "\n",
    "    def __init__(self, x, y):\n",
    "        self.x = x\n",
    "        self.y = y\n",
    "\n",
    "    def __len__(self):\n",
    "        return len(self.x)\n",
    "\n",
    "    def __getitem__(self, idx):\n",
    "        xs = self.x.loc[idx, :]\n",
    "        ys = self.y.loc[idx, :]\n",
    "\n",
    "        return torch.tensor(xs, dtype=torch.float32), torch.tensor(ys)\n",
    "\n",
    "\n",
    "class SteelModel(nn.Module):\n",
    "\n",
    "    def __init__(self, in_channels, out_channels):\n",
    "        super(SteelModel, self).__init__()\n",
    "\n",
    "        self.h_channels = 128\n",
    "        self.lstm_channels = 128\n",
    "\n",
    "        self.tail = nn.Sequential(nn.Linear(in_channels, self.h_channels),\n",
    "                                  nn.LeakyReLU(),\n",
    "                                  nn.BatchNorm1d(self.h_channels),\n",
    "                                  nn.Linear(self.h_channels, self.h_channels),\n",
    "                                  nn.LeakyReLU(),\n",
    "                                  nn.BatchNorm1d(self.h_channels),\n",
    "                                  nn.Dropout(0.4))\n",
    "        self.lstm = nn.LSTM(self.h_channels, self.lstm_channels, batch_first=True, bidirectional=True)\n",
    "        self.head = nn.Sequential(nn.Linear(2 * self.lstm_channels, self.h_channels),\n",
    "                                  nn.LeakyReLU(),\n",
    "                                  nn.BatchNorm1d(self.h_channels),\n",
    "                                  nn.Dropout(0.3),\n",
    "                                  nn.Linear(self.h_channels, out_channels))\n",
    "        \n",
    "    def forward(self, x):\n",
    "        x = self.tail(x)\n",
    "        x, _ = self.lstm(x)\n",
    "        x = self.head(x)\n",
    "        \n",
    "        return x"
   ],
   "metadata": {
    "collapsed": false,
    "ExecuteTime": {
     "end_time": "2024-03-31T07:35:41.384620Z",
     "start_time": "2024-03-31T07:35:41.373636200Z"
    }
   },
   "id": "df3b8b18f2892291"
  },
  {
   "cell_type": "code",
   "execution_count": 84,
   "outputs": [
    {
     "data": {
      "text/plain": "torch.Size([16, 7])"
     },
     "execution_count": 84,
     "metadata": {},
     "output_type": "execute_result"
    }
   ],
   "source": [
    "train_dataset = SteelDataset(X[best_cols], Y)\n",
    "train_loader = DataLoader(train_dataset, batch_size=16, shuffle=True)\n",
    "\n"
   ],
   "metadata": {
    "collapsed": false
   },
   "id": "dcabce60b28c9237"
  },
  {
   "cell_type": "code",
   "source": [
    "estimators = dict(lgb=LGBMClassifier(num_iterations=1000,\n",
    "                                     max_depth=3,\n",
    "                                     learning_rate=0.0080988815333333,\n",
    "                                     feature_fraction=0.8578138132619784,\n",
    "                                     colsample_bytree=0.8768880865721203,\n",
    "                                     reg_lambda=0.7173767456929144,\n",
    "                                     device=\"gpu\",\n",
    "                                     verbose=-1),\n",
    "                  xgb=XGBClassifier(n_estimators=1000,\n",
    "                                    max_depth=6,\n",
    "                                    subsample=0.5342564004636723,\n",
    "                                    learning_rate=0.0064835939090773,\n",
    "                                    colsample_bytree=0.8195724454605662,\n",
    "                                    reg_lambda=0.09829546268908843,\n",
    "                                    device='cuda:0',\n",
    "                                    verbosity=0),\n",
    "                  cgb=CatBoostClassifier(iterations=110,\n",
    "                                         depth=6,\n",
    "                                         learning_rate=0.05201739,\n",
    "                                         task_type=\"GPU\",\n",
    "                                         cat_features=['col_7', 'col_9', 'col_10',\n",
    "                                                       'TypeOfSteel_A300',\n",
    "                                                       'TypeOfSteel_A400'],\n",
    "                                         silent=True)\n",
    "                  )"
   ],
   "metadata": {
    "collapsed": false,
    "ExecuteTime": {
     "end_time": "2024-03-31T06:04:46.639134300Z",
     "start_time": "2024-03-31T06:04:46.627168300Z"
    }
   },
   "execution_count": 63,
   "outputs": [],
   "id": "ca81620a4203857f"
  },
  {
   "cell_type": "code",
   "execution_count": 64,
   "outputs": [],
   "source": [
    "def run(estimators_, x, y):\n",
    "    preds = {}\n",
    "\n",
    "    for k, est in estimators_.items():\n",
    "        m_preds = []\n",
    "        print(f'estimator: {k}')\n",
    "\n",
    "        for r in range(5):\n",
    "            print(f'repeat: {r}')\n",
    "\n",
    "            cv = MultilabelStratifiedKFold(n_splits=7, shuffle=True)\n",
    "\n",
    "            for i, (t_idx, v_idx) in enumerate(cv.split(x[best_cols], y)):\n",
    "                train_x, valid_x = x.loc[t_idx, best_cols], x.loc[v_idx, best_cols]\n",
    "                train_y, valid_y = y.loc[t_idx, :], y.loc[v_idx, :]\n",
    "                pred_test = np.zeros((len(test), len(ys)))\n",
    "\n",
    "                estimator = make_pipeline(MultiOutputClassifier(est))\n",
    "                estimator.fit(train_x, train_y)\n",
    "\n",
    "                pred_vals = estimator.predict_proba(valid_x)\n",
    "\n",
    "                print(f'fold: {i}')\n",
    "                print(np.mean([roc_auc_score(valid_y.iloc[:, i], pred_vals[i][:, 1]) for i in range(len(ys))]))\n",
    "\n",
    "                for j in range(len(ys)):\n",
    "                    pred_test[:, j] = estimator.predict_proba(test[best_cols])[j][:, 1]\n",
    "\n",
    "                m_preds.append(pred_test)\n",
    "\n",
    "        preds[k] = m_preds\n",
    "\n",
    "    return preds"
   ],
   "metadata": {
    "collapsed": false,
    "ExecuteTime": {
     "end_time": "2024-03-31T06:04:48.466456900Z",
     "start_time": "2024-03-31T06:04:48.459375100Z"
    }
   },
   "id": "38947c580f8de100"
  },
  {
   "cell_type": "code",
   "execution_count": 65,
   "outputs": [
    {
     "name": "stdout",
     "output_type": "stream",
     "text": [
      "estimator: lgb\n",
      "repeat: 0\n",
      "fold: 0\n",
      "0.8871825165523501\n",
      "fold: 1\n",
      "0.8908906718224922\n",
      "fold: 2\n",
      "0.8829064283560972\n",
      "fold: 3\n",
      "0.8862714195770938\n",
      "fold: 4\n",
      "0.8811244513478252\n",
      "fold: 5\n",
      "0.8874446167786486\n",
      "fold: 6\n",
      "0.8821545334175277\n",
      "repeat: 1\n",
      "fold: 0\n",
      "0.8865596545256464\n",
      "fold: 1\n",
      "0.8901356220360445\n",
      "fold: 2\n",
      "0.8893898992168393\n",
      "fold: 3\n",
      "0.8848919848672898\n",
      "fold: 4\n",
      "0.8839189833455464\n",
      "fold: 5\n",
      "0.885585817579713\n",
      "fold: 6\n",
      "0.8808279764615362\n",
      "repeat: 2\n",
      "fold: 0\n",
      "0.8916054354248674\n",
      "fold: 1\n",
      "0.8807315726153718\n",
      "fold: 2\n",
      "0.8837224650698496\n",
      "fold: 3\n",
      "0.890077925885796\n",
      "fold: 4\n",
      "0.883333266856944\n",
      "fold: 5\n",
      "0.885850116473707\n",
      "fold: 6\n",
      "0.8853525080801646\n",
      "repeat: 3\n",
      "fold: 0\n",
      "0.880536367200034\n",
      "fold: 1\n",
      "0.8836891985837394\n",
      "fold: 2\n",
      "0.8833045324133432\n",
      "fold: 3\n",
      "0.8853020324781858\n",
      "fold: 4\n",
      "0.891170278549682\n",
      "fold: 5\n",
      "0.8850672905810991\n",
      "fold: 6\n",
      "0.8904084825570074\n",
      "repeat: 4\n",
      "fold: 0\n",
      "0.8788229971963716\n",
      "fold: 1\n",
      "0.8878881222546057\n",
      "fold: 2\n",
      "0.8867506125427488\n",
      "fold: 3\n",
      "0.8834098155122628\n",
      "fold: 4\n",
      "0.8873576713540794\n",
      "fold: 5\n",
      "0.8867686120148824\n",
      "fold: 6\n",
      "0.8921942273939297\n",
      "estimator: xgb\n",
      "repeat: 0\n",
      "fold: 0\n",
      "0.8860578826126423\n",
      "fold: 1\n",
      "0.8934299302881187\n",
      "fold: 2\n",
      "0.8885015799478723\n",
      "fold: 3\n",
      "0.8918204751883385\n",
      "fold: 4\n",
      "0.8846080977623363\n",
      "fold: 5\n",
      "0.8832088048813137\n",
      "fold: 6\n",
      "0.8804923697765322\n",
      "repeat: 1\n",
      "fold: 0\n",
      "0.8876826467835679\n",
      "fold: 1\n",
      "0.8899798790475832\n",
      "fold: 2\n",
      "0.8841322552706965\n",
      "fold: 3\n",
      "0.8827051033831949\n",
      "fold: 4\n",
      "0.8913100280242887\n",
      "fold: 5\n",
      "0.8832166461599265\n",
      "fold: 6\n",
      "0.8917910221423275\n",
      "repeat: 2\n",
      "fold: 0\n",
      "0.8895888528710001\n",
      "fold: 1\n",
      "0.8857311122464777\n",
      "fold: 2\n",
      "0.8881374600516889\n",
      "fold: 3\n",
      "0.8938300049128104\n",
      "fold: 4\n",
      "0.8816542890229598\n",
      "fold: 5\n",
      "0.8901050851453848\n",
      "fold: 6\n",
      "0.882105885535501\n",
      "repeat: 3\n",
      "fold: 0\n",
      "0.8878041739389867\n",
      "fold: 1\n",
      "0.8914350551409218\n",
      "fold: 2\n",
      "0.8822207823493949\n",
      "fold: 3\n",
      "0.8926480884837348\n",
      "fold: 4\n",
      "0.8856364934053441\n",
      "fold: 5\n",
      "0.8879258345852927\n",
      "fold: 6\n",
      "0.8808541361256131\n",
      "repeat: 4\n",
      "fold: 0\n",
      "0.8893826944899328\n",
      "fold: 1\n",
      "0.878788356651928\n",
      "fold: 2\n",
      "0.8869107685277283\n",
      "fold: 3\n",
      "0.8831578097002775\n",
      "fold: 4\n",
      "0.8913054528001076\n",
      "fold: 5\n",
      "0.8931680466695887\n",
      "fold: 6\n",
      "0.8914968964303142\n",
      "estimator: cgb\n",
      "repeat: 0\n",
      "fold: 0\n",
      "0.8894208345131432\n",
      "fold: 1\n",
      "0.8879758978097596\n",
      "fold: 2\n",
      "0.8805834361023803\n",
      "fold: 3\n",
      "0.8873079547134838\n",
      "fold: 4\n",
      "0.8810660882246469\n",
      "fold: 5\n",
      "0.8895427410182913\n",
      "fold: 6\n",
      "0.8867468062215221\n",
      "repeat: 1\n",
      "fold: 0\n",
      "0.8876546118932062\n",
      "fold: 1\n",
      "0.8841705719807292\n",
      "fold: 2\n",
      "0.8839631487441216\n",
      "fold: 3\n",
      "0.8876172225319365\n",
      "fold: 4\n",
      "0.8883002243429178\n",
      "fold: 5\n",
      "0.884216092908793\n",
      "fold: 6\n",
      "0.885298828299487\n",
      "repeat: 2\n",
      "fold: 0\n",
      "0.8886641164581052\n",
      "fold: 1\n",
      "0.8862212094619394\n",
      "fold: 2\n",
      "0.883171178789295\n",
      "fold: 3\n",
      "0.8875292773507042\n",
      "fold: 4\n",
      "0.8859146597841151\n",
      "fold: 5\n",
      "0.8848399900320507\n",
      "fold: 6\n",
      "0.8878293443357411\n",
      "repeat: 3\n",
      "fold: 0\n",
      "0.8853108580514965\n",
      "fold: 1\n",
      "0.8893575776682737\n",
      "fold: 2\n",
      "0.8897724492025639\n",
      "fold: 3\n",
      "0.8847887121936643\n",
      "fold: 4\n",
      "0.8938018712285467\n",
      "fold: 5\n",
      "0.8837570518499719\n",
      "fold: 6\n",
      "0.8818191485539794\n",
      "repeat: 4\n",
      "fold: 0\n",
      "0.8846800784613664\n",
      "fold: 1\n",
      "0.8934119051639227\n",
      "fold: 2\n",
      "0.8872918347147449\n",
      "fold: 3\n",
      "0.8883932666006151\n",
      "fold: 4\n",
      "0.8865435404583769\n",
      "fold: 5\n",
      "0.8844444518279538\n",
      "fold: 6\n",
      "0.8812158744194347\n"
     ]
    }
   ],
   "source": [
    "preds = run(estimators, X, Y)"
   ],
   "metadata": {
    "collapsed": false,
    "ExecuteTime": {
     "end_time": "2024-03-31T06:36:20.099643600Z",
     "start_time": "2024-03-31T06:04:49.779814200Z"
    }
   },
   "id": "b56666e02368ae33"
  },
  {
   "cell_type": "code",
   "execution_count": 66,
   "outputs": [],
   "source": [
    "submission = (0.1 * np.mean(np.asarray(preds['lgb']), axis=0) +\n",
    "              0.6 * np.mean(np.asarray(preds['xgb']), axis=0) +\n",
    "              0.3 * np.mean(np.asarray(preds['cgb']), axis=0))\n",
    "submission = pd.DataFrame(submission, columns=sub.columns).set_index(sub.index)\n",
    "submission.to_csv('submission_.csv')"
   ],
   "metadata": {
    "collapsed": false,
    "ExecuteTime": {
     "end_time": "2024-03-31T06:36:37.567834300Z",
     "start_time": "2024-03-31T06:36:37.408694200Z"
    }
   },
   "id": "861ff449348ac478"
  },
  {
   "cell_type": "markdown",
   "source": [
    "## sudo labeling"
   ],
   "metadata": {
    "collapsed": false
   },
   "id": "f4c86066a0af00e7"
  },
  {
   "cell_type": "code",
   "execution_count": 67,
   "outputs": [
    {
     "data": {
      "text/plain": "       Pastry  Z_Scratch  K_Scatch  Stains  Dirtiness  Bumps  Other_Faults\n0           1          0         0       0          0      0             0\n1           0          0         0       0          0      0             1\n2           0          0         0       0          0      0             1\n3           0          0         0       0          0      0             1\n4           0          0         0       0          0      1             0\n...       ...        ...       ...     ...        ...    ...           ...\n12809       0          0         0       0          0      0             1\n12810       0          0         0       0          0      0             1\n12811       0          0         1       0          0      0             0\n12812       1          0         0       0          0      0             0\n12813       0          0         1       0          0      0             0\n\n[12814 rows x 7 columns]",
      "text/html": "<div>\n<style scoped>\n    .dataframe tbody tr th:only-of-type {\n        vertical-align: middle;\n    }\n\n    .dataframe tbody tr th {\n        vertical-align: top;\n    }\n\n    .dataframe thead th {\n        text-align: right;\n    }\n</style>\n<table border=\"1\" class=\"dataframe\">\n  <thead>\n    <tr style=\"text-align: right;\">\n      <th></th>\n      <th>Pastry</th>\n      <th>Z_Scratch</th>\n      <th>K_Scatch</th>\n      <th>Stains</th>\n      <th>Dirtiness</th>\n      <th>Bumps</th>\n      <th>Other_Faults</th>\n    </tr>\n  </thead>\n  <tbody>\n    <tr>\n      <th>0</th>\n      <td>1</td>\n      <td>0</td>\n      <td>0</td>\n      <td>0</td>\n      <td>0</td>\n      <td>0</td>\n      <td>0</td>\n    </tr>\n    <tr>\n      <th>1</th>\n      <td>0</td>\n      <td>0</td>\n      <td>0</td>\n      <td>0</td>\n      <td>0</td>\n      <td>0</td>\n      <td>1</td>\n    </tr>\n    <tr>\n      <th>2</th>\n      <td>0</td>\n      <td>0</td>\n      <td>0</td>\n      <td>0</td>\n      <td>0</td>\n      <td>0</td>\n      <td>1</td>\n    </tr>\n    <tr>\n      <th>3</th>\n      <td>0</td>\n      <td>0</td>\n      <td>0</td>\n      <td>0</td>\n      <td>0</td>\n      <td>0</td>\n      <td>1</td>\n    </tr>\n    <tr>\n      <th>4</th>\n      <td>0</td>\n      <td>0</td>\n      <td>0</td>\n      <td>0</td>\n      <td>0</td>\n      <td>1</td>\n      <td>0</td>\n    </tr>\n    <tr>\n      <th>...</th>\n      <td>...</td>\n      <td>...</td>\n      <td>...</td>\n      <td>...</td>\n      <td>...</td>\n      <td>...</td>\n      <td>...</td>\n    </tr>\n    <tr>\n      <th>12809</th>\n      <td>0</td>\n      <td>0</td>\n      <td>0</td>\n      <td>0</td>\n      <td>0</td>\n      <td>0</td>\n      <td>1</td>\n    </tr>\n    <tr>\n      <th>12810</th>\n      <td>0</td>\n      <td>0</td>\n      <td>0</td>\n      <td>0</td>\n      <td>0</td>\n      <td>0</td>\n      <td>1</td>\n    </tr>\n    <tr>\n      <th>12811</th>\n      <td>0</td>\n      <td>0</td>\n      <td>1</td>\n      <td>0</td>\n      <td>0</td>\n      <td>0</td>\n      <td>0</td>\n    </tr>\n    <tr>\n      <th>12812</th>\n      <td>1</td>\n      <td>0</td>\n      <td>0</td>\n      <td>0</td>\n      <td>0</td>\n      <td>0</td>\n      <td>0</td>\n    </tr>\n    <tr>\n      <th>12813</th>\n      <td>0</td>\n      <td>0</td>\n      <td>1</td>\n      <td>0</td>\n      <td>0</td>\n      <td>0</td>\n      <td>0</td>\n    </tr>\n  </tbody>\n</table>\n<p>12814 rows × 7 columns</p>\n</div>"
     },
     "execution_count": 67,
     "metadata": {},
     "output_type": "execute_result"
    }
   ],
   "source": [
    "mask = np.zeros_like(submission.values)\n",
    "mask[np.arange(len(submission)), submission.values.argmax(1)] = 1\n",
    "\n",
    "test_sudo = pd.DataFrame(mask, columns=submission.columns).astype(int)\n",
    "test_sudo"
   ],
   "metadata": {
    "collapsed": false,
    "ExecuteTime": {
     "end_time": "2024-03-31T06:56:45.710124Z",
     "start_time": "2024-03-31T06:56:45.698269500Z"
    }
   },
   "id": "11506f0e1e2402f6"
  },
  {
   "cell_type": "code",
   "execution_count": 68,
   "outputs": [],
   "source": [
    "new_train = pd.concat((X[best_cols], test[best_cols]), axis=0)\n",
    "new_y = pd.concat((Y, test_sudo), axis=0)"
   ],
   "metadata": {
    "collapsed": false,
    "ExecuteTime": {
     "end_time": "2024-03-31T06:56:52.138368700Z",
     "start_time": "2024-03-31T06:56:52.091284700Z"
    }
   },
   "id": "1232f1ee7b9d637c"
  },
  {
   "cell_type": "code",
   "execution_count": 69,
   "outputs": [
    {
     "data": {
      "text/plain": "(None, None)"
     },
     "execution_count": 69,
     "metadata": {},
     "output_type": "execute_result"
    }
   ],
   "source": [
    "new_train.reset_index(drop=True, inplace=True), new_y.reset_index(drop=True, inplace=True)"
   ],
   "metadata": {
    "collapsed": false,
    "ExecuteTime": {
     "end_time": "2024-03-31T06:56:54.081387Z",
     "start_time": "2024-03-31T06:56:54.071560Z"
    }
   },
   "id": "923f79cd55eced32"
  },
  {
   "cell_type": "code",
   "execution_count": 71,
   "outputs": [],
   "source": [
    "cv = MultilabelStratifiedKFold(n_splits=7, shuffle=True)"
   ],
   "metadata": {
    "collapsed": false,
    "ExecuteTime": {
     "end_time": "2024-03-31T06:57:36.872569200Z",
     "start_time": "2024-03-31T06:57:36.856585900Z"
    }
   },
   "id": "9e7fa64e59c3268b"
  },
  {
   "cell_type": "markdown",
   "source": [
    "## adjested parameters"
   ],
   "metadata": {
    "collapsed": false
   },
   "id": "b075b8f6287d662c"
  },
  {
   "cell_type": "code",
   "execution_count": 73,
   "outputs": [],
   "source": [
    "estimators = dict(lgb=LGBMClassifier(num_iterations=1000,\n",
    "                                     max_depth=3,\n",
    "                                     learning_rate=0.0098988815333333,\n",
    "                                     feature_fraction=0.8578138132619784,\n",
    "                                     colsample_bytree=0.8768880865721203,\n",
    "                                     reg_lambda=0.7173767456929144,\n",
    "                                     device=\"gpu\",\n",
    "                                     verbose=-1),\n",
    "                  xgb=XGBClassifier(n_estimators=1000,\n",
    "                                    max_depth=6,\n",
    "                                    subsample=0.5342564004636723,\n",
    "                                    learning_rate=0.0064835939090773,\n",
    "                                    colsample_bytree=0.8195724454605662,\n",
    "                                    reg_lambda=0.09829546268908843,\n",
    "                                    device='cuda:0',\n",
    "                                    verbosity=0),\n",
    "                  cgb=CatBoostClassifier(iterations=110,\n",
    "                                         depth=6,\n",
    "                                         learning_rate=0.06201739,\n",
    "                                         task_type=\"GPU\",\n",
    "                                         cat_features=['col_7', 'col_9', 'col_10',\n",
    "                                                       'TypeOfSteel_A300',\n",
    "                                                       'TypeOfSteel_A400'],\n",
    "                                         silent=True)\n",
    "                  )"
   ],
   "metadata": {
    "collapsed": false,
    "ExecuteTime": {
     "end_time": "2024-03-31T06:58:13.515341200Z",
     "start_time": "2024-03-31T06:58:13.496688700Z"
    }
   },
   "id": "6bdf44c9b192199"
  },
  {
   "cell_type": "code",
   "execution_count": 74,
   "outputs": [
    {
     "name": "stdout",
     "output_type": "stream",
     "text": [
      "estimator: lgb\n",
      "repeat: 0\n",
      "fold: 0\n",
      "0.9235298340826964\n",
      "fold: 1\n",
      "0.920031843730221\n",
      "fold: 2\n",
      "0.925597484617836\n",
      "fold: 3\n",
      "0.9254829579036551\n",
      "fold: 4\n",
      "0.919936498938264\n",
      "fold: 5\n",
      "0.9173495225279107\n",
      "fold: 6\n",
      "0.9177276349419298\n",
      "repeat: 1\n",
      "fold: 0\n",
      "0.920152108402571\n",
      "fold: 1\n",
      "0.914422992867854\n",
      "fold: 2\n",
      "0.9223185143707201\n",
      "fold: 3\n",
      "0.9210876881754031\n",
      "fold: 4\n",
      "0.9234152922210682\n",
      "fold: 5\n",
      "0.9212804576067073\n",
      "fold: 6\n",
      "0.9278080851442703\n",
      "repeat: 2\n",
      "fold: 0\n",
      "0.9199293834871664\n",
      "fold: 1\n",
      "0.9191341820742318\n",
      "fold: 2\n",
      "0.9193754152224337\n",
      "fold: 3\n",
      "0.9175908421465644\n",
      "fold: 4\n",
      "0.926162562365645\n",
      "fold: 5\n",
      "0.9225567305225415\n",
      "fold: 6\n",
      "0.9239758035880096\n",
      "repeat: 3\n",
      "fold: 0\n",
      "0.9195858608549977\n",
      "fold: 1\n",
      "0.9162450151379825\n",
      "fold: 2\n",
      "0.9256171048837388\n",
      "fold: 3\n",
      "0.9283986278802904\n",
      "fold: 4\n",
      "0.9210490869989457\n",
      "fold: 5\n",
      "0.9178742574107288\n",
      "fold: 6\n",
      "0.9230452214652564\n",
      "repeat: 4\n",
      "fold: 0\n",
      "0.9189878545360827\n",
      "fold: 1\n",
      "0.9260340115851077\n",
      "fold: 2\n",
      "0.9214153499648114\n",
      "fold: 3\n",
      "0.919320059251012\n",
      "fold: 4\n",
      "0.9197256080084049\n",
      "fold: 5\n",
      "0.9188078459221057\n",
      "fold: 6\n",
      "0.9211438858918052\n",
      "estimator: xgb\n",
      "repeat: 0\n",
      "fold: 0\n",
      "0.9232725293603208\n",
      "fold: 1\n",
      "0.9294944391640483\n",
      "fold: 2\n",
      "0.9229406216303152\n",
      "fold: 3\n",
      "0.92483201576485\n",
      "fold: 4\n",
      "0.921900651686958\n",
      "fold: 5\n",
      "0.9197762409527855\n",
      "fold: 6\n",
      "0.9244877043523683\n",
      "repeat: 1\n",
      "fold: 0\n",
      "0.9229689878692074\n",
      "fold: 1\n",
      "0.9220752780978215\n",
      "fold: 2\n",
      "0.9224909334373493\n",
      "fold: 3\n",
      "0.9273850092571819\n",
      "fold: 4\n",
      "0.9252068530798685\n",
      "fold: 5\n",
      "0.922115055908999\n",
      "fold: 6\n",
      "0.9254330363639518\n",
      "repeat: 2\n",
      "fold: 0\n",
      "0.9226573867974613\n",
      "fold: 1\n",
      "0.9248460838714389\n",
      "fold: 2\n",
      "0.9236159863826033\n",
      "fold: 3\n",
      "0.9275983279706227\n",
      "fold: 4\n",
      "0.9209459084977174\n",
      "fold: 5\n",
      "0.9269556224982799\n",
      "fold: 6\n",
      "0.9231502720505954\n",
      "repeat: 3\n",
      "fold: 0\n",
      "0.9294453809027778\n",
      "fold: 1\n",
      "0.9182346525480497\n",
      "fold: 2\n",
      "0.9247395205100631\n",
      "fold: 3\n",
      "0.9216691212442932\n",
      "fold: 4\n",
      "0.9271442341443236\n",
      "fold: 5\n",
      "0.9235674507432827\n",
      "fold: 6\n",
      "0.9239835204491397\n",
      "repeat: 4\n",
      "fold: 0\n",
      "0.9238854154459529\n",
      "fold: 1\n",
      "0.9247623846697052\n",
      "fold: 2\n",
      "0.926546125300359\n",
      "fold: 3\n",
      "0.9218101655878278\n",
      "fold: 4\n",
      "0.9229291851166153\n",
      "fold: 5\n",
      "0.9241619434661413\n",
      "fold: 6\n",
      "0.9243746838210907\n",
      "estimator: cgb\n",
      "repeat: 0\n",
      "fold: 0\n",
      "0.9222849968726944\n",
      "fold: 1\n",
      "0.924677066563223\n",
      "fold: 2\n",
      "0.9171849627104077\n",
      "fold: 3\n",
      "0.9206000423388737\n",
      "fold: 4\n",
      "0.9193173376703918\n",
      "fold: 5\n",
      "0.9132418881212346\n",
      "fold: 6\n",
      "0.9297330525381179\n",
      "repeat: 1\n",
      "fold: 0\n",
      "0.9202131206855404\n",
      "fold: 1\n",
      "0.9198092762775929\n",
      "fold: 2\n",
      "0.9260803609731187\n",
      "fold: 3\n",
      "0.922070576225819\n",
      "fold: 4\n",
      "0.9241449582987789\n",
      "fold: 5\n",
      "0.9197718876539404\n",
      "fold: 6\n",
      "0.9181856125311999\n",
      "repeat: 2\n",
      "fold: 0\n",
      "0.9173446470830948\n",
      "fold: 1\n",
      "0.9278460891428798\n",
      "fold: 2\n",
      "0.921534488169003\n",
      "fold: 3\n",
      "0.9172618292998207\n",
      "fold: 4\n",
      "0.9230688128869494\n",
      "fold: 5\n",
      "0.9250855050910028\n",
      "fold: 6\n",
      "0.9188361137732092\n",
      "repeat: 3\n",
      "fold: 0\n",
      "0.9214772608245687\n",
      "fold: 1\n",
      "0.9236947742537568\n",
      "fold: 2\n",
      "0.9211913988878646\n",
      "fold: 3\n",
      "0.9236603835120638\n",
      "fold: 4\n",
      "0.9183048615030499\n",
      "fold: 5\n",
      "0.9200367555594224\n",
      "fold: 6\n",
      "0.9253483686865441\n",
      "repeat: 4\n",
      "fold: 0\n",
      "0.9151798634327093\n",
      "fold: 1\n",
      "0.9199777753119134\n",
      "fold: 2\n",
      "0.9262668521775944\n",
      "fold: 3\n",
      "0.9204745718808683\n",
      "fold: 4\n",
      "0.9283001509540391\n",
      "fold: 5\n",
      "0.9194749281627335\n",
      "fold: 6\n",
      "0.9224872894197109\n"
     ]
    }
   ],
   "source": [
    "preds_sudo = run(estimators, new_train, new_y)"
   ],
   "metadata": {
    "collapsed": false,
    "ExecuteTime": {
     "end_time": "2024-03-31T07:32:48.223973Z",
     "start_time": "2024-03-31T06:58:19.001304600Z"
    }
   },
   "id": "bf7d78c879f54e01"
  },
  {
   "cell_type": "code",
   "execution_count": 76,
   "outputs": [
    {
     "data": {
      "text/plain": "         Pastry  Z_Scratch  K_Scatch    Stains  Dirtiness     Bumps  \\\nid                                                                    \n19219  0.600816   0.002274  0.002021  0.000160   0.007662  0.097604   \n19220  0.186851   0.009450  0.007282  0.000260   0.105812  0.148495   \n19221  0.001967   0.018239  0.019993  0.000506   0.005504  0.231412   \n19222  0.064271   0.001191  0.000393  0.001418   0.005827  0.402230   \n19223  0.002356   0.001193  0.000817  0.001439   0.002905  0.729605   \n...         ...        ...       ...       ...        ...       ...   \n32028  0.030502   0.059271  0.001424  0.000174   0.014847  0.121276   \n32029  0.079953   0.002290  0.012762  0.003498   0.077682  0.127815   \n32030  0.000470   0.000617  0.949288  0.000181   0.000325  0.001405   \n32031  0.629566   0.005676  0.010990  0.000187   0.022477  0.143209   \n32032  0.000958   0.005375  0.942396  0.000203   0.000437  0.004516   \n\n       Other_Faults  \nid                   \n19219      0.467252  \n19220      0.416563  \n19221      0.615824  \n19222      0.455761  \n19223      0.302489  \n...             ...  \n32028      0.573928  \n32029      0.621720  \n32030      0.048698  \n32031      0.357949  \n32032      0.050639  \n\n[12814 rows x 7 columns]",
      "text/html": "<div>\n<style scoped>\n    .dataframe tbody tr th:only-of-type {\n        vertical-align: middle;\n    }\n\n    .dataframe tbody tr th {\n        vertical-align: top;\n    }\n\n    .dataframe thead th {\n        text-align: right;\n    }\n</style>\n<table border=\"1\" class=\"dataframe\">\n  <thead>\n    <tr style=\"text-align: right;\">\n      <th></th>\n      <th>Pastry</th>\n      <th>Z_Scratch</th>\n      <th>K_Scatch</th>\n      <th>Stains</th>\n      <th>Dirtiness</th>\n      <th>Bumps</th>\n      <th>Other_Faults</th>\n    </tr>\n    <tr>\n      <th>id</th>\n      <th></th>\n      <th></th>\n      <th></th>\n      <th></th>\n      <th></th>\n      <th></th>\n      <th></th>\n    </tr>\n  </thead>\n  <tbody>\n    <tr>\n      <th>19219</th>\n      <td>0.600816</td>\n      <td>0.002274</td>\n      <td>0.002021</td>\n      <td>0.000160</td>\n      <td>0.007662</td>\n      <td>0.097604</td>\n      <td>0.467252</td>\n    </tr>\n    <tr>\n      <th>19220</th>\n      <td>0.186851</td>\n      <td>0.009450</td>\n      <td>0.007282</td>\n      <td>0.000260</td>\n      <td>0.105812</td>\n      <td>0.148495</td>\n      <td>0.416563</td>\n    </tr>\n    <tr>\n      <th>19221</th>\n      <td>0.001967</td>\n      <td>0.018239</td>\n      <td>0.019993</td>\n      <td>0.000506</td>\n      <td>0.005504</td>\n      <td>0.231412</td>\n      <td>0.615824</td>\n    </tr>\n    <tr>\n      <th>19222</th>\n      <td>0.064271</td>\n      <td>0.001191</td>\n      <td>0.000393</td>\n      <td>0.001418</td>\n      <td>0.005827</td>\n      <td>0.402230</td>\n      <td>0.455761</td>\n    </tr>\n    <tr>\n      <th>19223</th>\n      <td>0.002356</td>\n      <td>0.001193</td>\n      <td>0.000817</td>\n      <td>0.001439</td>\n      <td>0.002905</td>\n      <td>0.729605</td>\n      <td>0.302489</td>\n    </tr>\n    <tr>\n      <th>...</th>\n      <td>...</td>\n      <td>...</td>\n      <td>...</td>\n      <td>...</td>\n      <td>...</td>\n      <td>...</td>\n      <td>...</td>\n    </tr>\n    <tr>\n      <th>32028</th>\n      <td>0.030502</td>\n      <td>0.059271</td>\n      <td>0.001424</td>\n      <td>0.000174</td>\n      <td>0.014847</td>\n      <td>0.121276</td>\n      <td>0.573928</td>\n    </tr>\n    <tr>\n      <th>32029</th>\n      <td>0.079953</td>\n      <td>0.002290</td>\n      <td>0.012762</td>\n      <td>0.003498</td>\n      <td>0.077682</td>\n      <td>0.127815</td>\n      <td>0.621720</td>\n    </tr>\n    <tr>\n      <th>32030</th>\n      <td>0.000470</td>\n      <td>0.000617</td>\n      <td>0.949288</td>\n      <td>0.000181</td>\n      <td>0.000325</td>\n      <td>0.001405</td>\n      <td>0.048698</td>\n    </tr>\n    <tr>\n      <th>32031</th>\n      <td>0.629566</td>\n      <td>0.005676</td>\n      <td>0.010990</td>\n      <td>0.000187</td>\n      <td>0.022477</td>\n      <td>0.143209</td>\n      <td>0.357949</td>\n    </tr>\n    <tr>\n      <th>32032</th>\n      <td>0.000958</td>\n      <td>0.005375</td>\n      <td>0.942396</td>\n      <td>0.000203</td>\n      <td>0.000437</td>\n      <td>0.004516</td>\n      <td>0.050639</td>\n    </tr>\n  </tbody>\n</table>\n<p>12814 rows × 7 columns</p>\n</div>"
     },
     "execution_count": 76,
     "metadata": {},
     "output_type": "execute_result"
    }
   ],
   "source": [
    "submission_sudo = (0.1 * np.mean(np.asarray(preds_sudo['lgb']), axis=0) +\n",
    "                   0.6 * np.mean(np.asarray(preds_sudo['xgb']), axis=0) +\n",
    "                   0.3 * np.mean(np.asarray(preds_sudo['cgb']), axis=0))\n",
    "submission_sudo = pd.DataFrame(submission_sudo, columns=sub.columns).set_index(sub.index)\n",
    "submission_sudo.to_csv('submission_sudo.csv')\n",
    "submission_sudo"
   ],
   "metadata": {
    "collapsed": false,
    "ExecuteTime": {
     "end_time": "2024-03-31T07:33:43.775334500Z",
     "start_time": "2024-03-31T07:33:43.291066Z"
    }
   },
   "id": "98333263f4316ae6"
  }
 ]
}
