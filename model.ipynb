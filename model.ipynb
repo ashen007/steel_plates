{
 "cells": [
  {
   "cell_type": "code",
   "execution_count": 1,
   "id": "initial_id",
   "metadata": {
    "collapsed": true,
    "ExecuteTime": {
     "end_time": "2024-03-21T15:27:06.963360100Z",
     "start_time": "2024-03-21T15:27:05.732481500Z"
    }
   },
   "outputs": [],
   "source": [
    "import numpy as np\n",
    "import pandas as pd\n",
    "import mlflow\n",
    "\n",
    "from sklearn.tree import DecisionTreeClassifier\n",
    "from sklearn.multioutput import MultiOutputClassifier\n",
    "from sklearn.model_selection import train_test_split, cross_val_score, StratifiedKFold"
   ]
  },
  {
   "cell_type": "code",
   "execution_count": 2,
   "outputs": [],
   "source": [
    "data = pd.read_csv('./data/train.csv', index_col='id')\n",
    "test = pd.read_csv('./data/test.csv', index_col='id')\n",
    "submission = pd.read_csv('./data/sample_submission.csv', index_col='id')\n",
    "\n",
    "xs = data.iloc[:, :-7]\n",
    "ys = data.iloc[:, -7:]"
   ],
   "metadata": {
    "collapsed": false,
    "ExecuteTime": {
     "end_time": "2024-03-21T15:27:08.318593400Z",
     "start_time": "2024-03-21T15:27:08.240228600Z"
    }
   },
   "id": "26bae09e64c45a48"
  },
  {
   "cell_type": "code",
   "execution_count": 3,
   "outputs": [
    {
     "data": {
      "text/plain": "((19219, 27), (19219, 7))"
     },
     "execution_count": 3,
     "metadata": {},
     "output_type": "execute_result"
    }
   ],
   "source": [
    "xs.shape, ys.shape"
   ],
   "metadata": {
    "collapsed": false,
    "ExecuteTime": {
     "end_time": "2024-03-21T15:27:09.093772Z",
     "start_time": "2024-03-21T15:27:09.082546500Z"
    }
   },
   "id": "2251f952fa5f194a"
  },
  {
   "cell_type": "code",
   "execution_count": 4,
   "outputs": [],
   "source": [
    "sk_fold = StratifiedKFold()"
   ],
   "metadata": {
    "collapsed": false,
    "ExecuteTime": {
     "end_time": "2024-03-21T15:27:10.355454300Z",
     "start_time": "2024-03-21T15:27:10.351278700Z"
    }
   },
   "id": "160d246e2849a168"
  },
  {
   "cell_type": "markdown",
   "source": [
    "## ML-Flow pipeline"
   ],
   "metadata": {
    "collapsed": false
   },
   "id": "e866eedafc932247"
  },
  {
   "cell_type": "code",
   "execution_count": 9,
   "outputs": [],
   "source": [
    "mlflow.sklearn.autolog()\n",
    "\n",
    "with mlflow.start_run():\n",
    "    tree_clf = MultiOutputClassifier(DecisionTreeClassifier(max_depth=5), n_jobs=-1)\n",
    "    tree_clf.fit(xs, ys)\n",
    "\n",
    "    preds = tree_clf.predict(test)\n",
    "    preds = pd.DataFrame(preds, columns=submission.columns, index=submission.index)\n",
    "    preds.to_csv('./submission.csv')"
   ],
   "metadata": {
    "collapsed": false,
    "ExecuteTime": {
     "end_time": "2024-03-21T14:57:49.945493300Z",
     "start_time": "2024-03-21T14:57:49.941457200Z"
    }
   },
   "id": "37dfb1ad2ccc0049"
  }
 ],
 "metadata": {
  "kernelspec": {
   "display_name": "Python 3",
   "language": "python",
   "name": "python3"
  },
  "language_info": {
   "codemirror_mode": {
    "name": "ipython",
    "version": 2
   },
   "file_extension": ".py",
   "mimetype": "text/x-python",
   "name": "python",
   "nbconvert_exporter": "python",
   "pygments_lexer": "ipython2",
   "version": "2.7.6"
  }
 },
 "nbformat": 4,
 "nbformat_minor": 5
}
